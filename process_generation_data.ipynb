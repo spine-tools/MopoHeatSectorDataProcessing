{
 "cells": [
  {
   "cell_type": "markdown",
   "metadata": {},
   "source": [
    "# Processing _Danish Energy Agency Technology Catalogue_ heat generation data for Mopo WP5\n",
    "\n",
    "The goal of this workbook is to process the DEA catalogue data into the format desired by Mopo WP5.\n",
    "This will require some assumptions about how to aggregate the different technologies in the catalogue into the desired technologies in the input.\n",
    "Furthermore, since the parameters in the catalogues don't match the desired parameters exactly, we need to do some conversions as well.\n",
    "\n",
    "\n",
    "## Julia setup"
   ]
  },
  {
   "cell_type": "code",
   "execution_count": null,
   "metadata": {},
   "outputs": [],
   "source": [
    "# Activate (and set up) the required Julia environment\n",
    "\n",
    "using Pkg # Julia package manager.\n",
    "Pkg.activate(@__DIR__) # Activate the Julia environment in the folder this file is in (namely the `Project.toml`)\n",
    "Pkg.instantiate() # Download and install the necessary dependencies.\n",
    "\n",
    "# Load dependencies\n",
    "using XLSX\n",
    "using DataFrames\n",
    "using Statistics\n",
    "using CSV\n",
    "using MopoHeatSectorDataProcessing"
   ]
  },
  {
   "cell_type": "markdown",
   "metadata": {},
   "source": [
    "## Reading the data"
   ]
  },
  {
   "cell_type": "code",
   "execution_count": null,
   "metadata": {},
   "outputs": [],
   "source": [
    "# Read and preview data\n",
    "raw_dh_data = DataFrame(XLSX.readtable(\"input-data\\\\dea-technology-catalogues\\\\technology_data_for_el_and_dh.xlsx\", \"alldata_flat\"))\n",
    "raw_heat_data = DataFrame(XLSX.readtable(\"input-data\\\\dea-technology-catalogues\\\\technology_data_heating_installations.xlsx\", \"alldata_flat\"))\n",
    "raw_cc_data = DataFrame(XLSX.readtable(\"input-data\\\\dea-technology-catalogues\\\\technology_data_for_carbon_capture_transport_storage.xlsx\", \"alldata_flat\"))\n",
    "first(raw_dh_data, 3)"
   ]
  },
  {
   "cell_type": "markdown",
   "metadata": {},
   "source": [
    "## Mapping DEA technologies to desired technologies\n",
    "\n",
    "Next up, we'll need to map the technologies in the DEA catalogues to the desired technology categories in the Mopo data.\n",
    "This should probably be done with some more thought, but for now, I'll settle with including every technology that I think might fit and worry about refining the assumptions later.\n",
    "\n",
    "We'll begin by figuring out each category first, before putting the whole map together."
   ]
  },
  {
   "cell_type": "code",
   "execution_count": null,
   "metadata": {},
   "outputs": [],
   "source": [
    "# Set of all available EL/DH technologies.\n",
    "techs = Set(raw_dh_data[:, :Technology]);"
   ]
  },
  {
   "cell_type": "markdown",
   "metadata": {},
   "source": [
    "### Biomass CHP"
   ]
  },
  {
   "cell_type": "code",
   "execution_count": null,
   "metadata": {},
   "outputs": [],
   "source": [
    "# Set of Biomass CHP technologies.\n",
    "bio_chp = filter(x -> contains(lowercase(x), \"biomass chp\"), techs)"
   ]
  },
  {
   "cell_type": "markdown",
   "metadata": {},
   "source": [
    "### Gas CHP\n",
    "\n",
    "Seems like all the `gas turbine` in the DEA data have CHP capability,\n",
    "with the exception of the `open cycle` ones!"
   ]
  },
  {
   "cell_type": "code",
   "execution_count": null,
   "metadata": {},
   "outputs": [],
   "source": [
    "gas_chp = filter(\n",
    "    x -> contains(lowercase(x), \"gas turbine\") && !contains(lowercase(x), \"open\"),\n",
    "    techs\n",
    ")"
   ]
  },
  {
   "cell_type": "markdown",
   "metadata": {},
   "source": [
    "### Coal CHP\n",
    "\n",
    "Coal doesn't seem to be big in Denmark, but there's at least one data point.\n",
    "Weirdly, it seems to be a \"power plant\" despite it having CHP coefficients?"
   ]
  },
  {
   "cell_type": "code",
   "execution_count": null,
   "metadata": {},
   "outputs": [],
   "source": [
    "coal_chp = filter(x -> contains(lowercase(x), \"coal power\"), techs)"
   ]
  },
  {
   "cell_type": "markdown",
   "metadata": {},
   "source": [
    "### Nuclear CHP\n",
    "\n",
    "The DEA catalogues don't have any parameters for nuclear, unfortunately. Skipping this for now."
   ]
  },
  {
   "cell_type": "markdown",
   "metadata": {},
   "source": [
    "### Fuelcell CHP\n",
    "\n",
    "Easy `fuel cell` yields what we want, both with CHP coefficients."
   ]
  },
  {
   "cell_type": "code",
   "execution_count": null,
   "metadata": {},
   "outputs": [],
   "source": [
    "fuelcell_chp = filter(x -> contains(lowercase(x), \"fuel cell\"), techs)"
   ]
  },
  {
   "cell_type": "markdown",
   "metadata": {},
   "source": [
    "### Waste CHP\n",
    "\n",
    "Easy `waste CHP` to avoid HOBs."
   ]
  },
  {
   "cell_type": "code",
   "execution_count": null,
   "metadata": {},
   "outputs": [],
   "source": [
    "waste_chp = filter(x -> contains(lowercase(x), \"waste chp\"), techs)"
   ]
  },
  {
   "cell_type": "markdown",
   "metadata": {},
   "source": [
    "### Bio boiler DH\n",
    "\n",
    "Filtering biomass heat-only boilers is a bit more complicated, as we need to avoid CHP and refurbishment of fossil plants."
   ]
  },
  {
   "cell_type": "code",
   "execution_count": null,
   "metadata": {},
   "outputs": [],
   "source": [
    "bio_boiler_dh = filter(x -> all(contains.(lowercase(x), [\"boiler\", \"biomass\"])) && !any(contains.(lowercase(x), [\"chp\", \"rebuild\"])), techs)"
   ]
  },
  {
   "cell_type": "markdown",
   "metadata": {},
   "source": [
    "### Gas boiler DH\n",
    "\n",
    "Simple `gas boiler` yields what we need."
   ]
  },
  {
   "cell_type": "code",
   "execution_count": null,
   "metadata": {},
   "outputs": [],
   "source": [
    "gas_boiler_dh = filter(x -> contains(lowercase(x), \"gas boiler\"), techs)"
   ]
  },
  {
   "cell_type": "markdown",
   "metadata": {},
   "source": [
    "### Oil boiler DH\n",
    "\n",
    "Seems like the only `oil` unit is a gas turbine?\n",
    "Not really applicable..."
   ]
  },
  {
   "cell_type": "code",
   "execution_count": null,
   "metadata": {},
   "outputs": [],
   "source": [
    "oil_boiler_dh = filter(x -> contains(lowercase(x), \" oil\"), techs)"
   ]
  },
  {
   "cell_type": "markdown",
   "metadata": {},
   "source": [
    "### Coal boiler DH\n",
    "\n",
    "No `coal` boiler data either it seems."
   ]
  },
  {
   "cell_type": "code",
   "execution_count": null,
   "metadata": {},
   "outputs": [],
   "source": [
    "coal_boiler_dh = filter(x -> contains(lowercase(x), \"coal\"), techs)"
   ]
  },
  {
   "cell_type": "markdown",
   "metadata": {},
   "source": [
    "### Elec boiler DH"
   ]
  },
  {
   "cell_type": "code",
   "execution_count": null,
   "metadata": {},
   "outputs": [],
   "source": [
    "elec_boiler_dh = filter(x -> contains(lowercase(x), \"electric boiler\"), techs)"
   ]
  },
  {
   "cell_type": "markdown",
   "metadata": {},
   "source": [
    "### Heatpump DH\n",
    "\n",
    "Filtering out only electric heat pumps with no special heat sources is a bit more complicated.\n",
    "We need to avoid including `geothermal` and `industrial` heat sources, as well as `absorption` heat pumps since they essentially \"amplify\" heat."
   ]
  },
  {
   "cell_type": "code",
   "execution_count": null,
   "metadata": {},
   "outputs": [],
   "source": [
    "heatpump_dh = filter(x -> contains(lowercase(x), \"heat pump\") && !any(contains.(lowercase(x), [\"geothermal\", \"industrial\", \"absorption\"])), techs)"
   ]
  },
  {
   "cell_type": "markdown",
   "metadata": {},
   "source": [
    "### Solar DH\n",
    "\n",
    "Easy `solar dh` to avoid PV."
   ]
  },
  {
   "cell_type": "code",
   "execution_count": null,
   "metadata": {},
   "outputs": [],
   "source": [
    "solar_dh = filter(x -> contains(lowercase(x), \"solar dh\"), techs)"
   ]
  },
  {
   "cell_type": "markdown",
   "metadata": {},
   "source": [
    "### Geothermal DH\n",
    "\n",
    "Easy `geothermal`. However, whether this should be modelled as an electric technology is an open question."
   ]
  },
  {
   "cell_type": "code",
   "execution_count": null,
   "metadata": {},
   "outputs": [],
   "source": [
    "geothermal_dh = filter(x -> contains(lowercase(x), \"geothermal\"), techs)"
   ]
  },
  {
   "cell_type": "markdown",
   "metadata": {},
   "source": [
    "### Waste DH\n",
    "\n",
    "Easy `waste boiler`."
   ]
  },
  {
   "cell_type": "code",
   "execution_count": null,
   "metadata": {},
   "outputs": [],
   "source": [
    "waste_dh = filter(x -> contains(lowercase(x), \"waste boiler\"), techs)"
   ]
  },
  {
   "cell_type": "markdown",
   "metadata": {},
   "source": [
    "## Mapping individual heating systems\n",
    "\n",
    "Next up, let's map individual heating technologies to the desired ones.\n",
    "First, we'll need to get the set of available techs."
   ]
  },
  {
   "cell_type": "code",
   "execution_count": null,
   "metadata": {},
   "outputs": [],
   "source": [
    "# Set of all available individual heating technologies.\n",
    "heat_techs = Set(raw_heat_data[:, :Technology]);"
   ]
  },
  {
   "cell_type": "markdown",
   "metadata": {},
   "source": [
    "### Decentral gas boiler"
   ]
  },
  {
   "cell_type": "code",
   "execution_count": null,
   "metadata": {},
   "outputs": [],
   "source": [
    "gas_boiler = filter(x -> contains(lowercase(x), \"gas boiler\"), heat_techs)"
   ]
  },
  {
   "cell_type": "markdown",
   "metadata": {},
   "source": [
    "### Decentral bio boiler"
   ]
  },
  {
   "cell_type": "code",
   "execution_count": null,
   "metadata": {},
   "outputs": [],
   "source": [
    "bio_boiler = filter(x -> contains(lowercase(x), \"biomass\"), heat_techs)"
   ]
  },
  {
   "cell_type": "markdown",
   "metadata": {},
   "source": [
    "### Decentral oil boiler"
   ]
  },
  {
   "cell_type": "code",
   "execution_count": null,
   "metadata": {},
   "outputs": [],
   "source": [
    "oil_boiler = filter(x -> contains(lowercase(x), \"oil boiler\"), heat_techs)"
   ]
  },
  {
   "cell_type": "markdown",
   "metadata": {},
   "source": [
    "### Decentral coal boiler\n",
    "\n",
    "No `coal` boiler data it seems."
   ]
  },
  {
   "cell_type": "code",
   "execution_count": null,
   "metadata": {},
   "outputs": [],
   "source": [
    "coal_boiler = filter(x -> contains(lowercase(x), \"coal\"), heat_techs)"
   ]
  },
  {
   "cell_type": "markdown",
   "metadata": {},
   "source": [
    "### Decentral A2W heat pump"
   ]
  },
  {
   "cell_type": "code",
   "execution_count": null,
   "metadata": {},
   "outputs": [],
   "source": [
    "air_heatpump = filter(x -> contains(lowercase(x), \"air-to-water\"), heat_techs)"
   ]
  },
  {
   "cell_type": "markdown",
   "metadata": {},
   "source": [
    "### Decentral G2W heat pump"
   ]
  },
  {
   "cell_type": "code",
   "execution_count": null,
   "metadata": {},
   "outputs": [],
   "source": [
    "ground_heatpump = filter(x -> contains(lowercase(x), \"ground source\"), heat_techs)"
   ]
  },
  {
   "cell_type": "markdown",
   "metadata": {},
   "source": [
    "### Decentral solar heating"
   ]
  },
  {
   "cell_type": "code",
   "execution_count": null,
   "metadata": {},
   "outputs": [],
   "source": [
    "solar_heating = filter(x -> contains(lowercase(x), \"solar\"), heat_techs)"
   ]
  },
  {
   "cell_type": "markdown",
   "metadata": {},
   "source": [
    "### Decentral electric heating"
   ]
  },
  {
   "cell_type": "code",
   "execution_count": null,
   "metadata": {},
   "outputs": [],
   "source": [
    "electric_heating = filter(x -> contains(lowercase(x), \"electric\"), heat_techs)"
   ]
  },
  {
   "cell_type": "markdown",
   "metadata": {},
   "source": [
    "## Carbon capture technology mapping\n",
    "\n",
    "Based on a brief review of the DEA carbon capture technology catalogue,\n",
    "basically all post-combustion and oxy-fuel carbon capture solutions\n",
    "are technically feasible for any fuel-combustion-based technologies.\n",
    "In reality, the impacts on efficiency and costs would likely vary between technologies.\n",
    "However, I see no point in making this unnecessarily difficult, since all of these are rough approximations anyhow."
   ]
  },
  {
   "cell_type": "code",
   "execution_count": null,
   "metadata": {},
   "outputs": [],
   "source": [
    "# Set of all available carbon capture technologies.\n",
    "cc_techs = Set(raw_cc_data[:, :Technology]);"
   ]
  },
  {
   "cell_type": "code",
   "execution_count": null,
   "metadata": {},
   "outputs": [],
   "source": [
    "combustion_cc = filter(\n",
    "    x -> (\n",
    "        (\n",
    "            contains(lowercase(x), \"combustion\") ||\n",
    "            contains(lowercase(x), \"fuel\")\n",
    "        ) && !contains(lowercase(x), \"cement\")\n",
    "    ),\n",
    "    cc_techs\n",
    ")"
   ]
  },
  {
   "cell_type": "markdown",
   "metadata": {},
   "source": [
    "## Calculate the desired parameters\n",
    "\n",
    "Next up, we'll need to try and calculate the required parameters for the technologies.\n",
    "This will likely be a nightmare due to inconsistent parameter names, units, and coverage.\n",
    "The list of parameters to calculate is:\n",
    "- `CAPEX (EUR/MW)`: based on `Nominal investment (* total)` in the sources.\n",
    "- `FOM (EUR/MW/year)`: based on `Fixed O&M (*total)` in the sources.\n",
    "- `VOM (EUR/MWh)`: based on `Variable O&M (*total)` in the sources.\n",
    "- `Lifetime (years)`: based on `Technical lifetime (years)` in the sources.\n",
    "- `Conversion rate (output/input)`: based on `Electrical efficiency (net, annual average)` and `Heat efficiency (net, annual average)`.\n",
    "- `CO2 Captured (tCO2/MWh)` Needs to be based on `CO2 capture rate, net (%)` somehow.\n",
    "- `Fuel cost`: This is not included, as it needs to be a separate assumption?\n",
    "\n",
    "I suppose the easiest way to attempt to do this is to gather values for these into the dataframes before fetching and averaging them across different mapped technologies. "
   ]
  },
  {
   "cell_type": "code",
   "execution_count": null,
   "metadata": {},
   "outputs": [],
   "source": [
    "describe(raw_dh_data)"
   ]
  },
  {
   "cell_type": "code",
   "execution_count": null,
   "metadata": {},
   "outputs": [],
   "source": [
    "## Calculate parameters for dh_data\n",
    "\n",
    "# Preprocessing\n",
    "cols = [:Technology, :par, :est, :year, :val] # Omit unnecessary cols\n",
    "dh_data = deepcopy(raw_dh_data[!, cols])\n",
    "dh_data.est = lowercase.(dh_data.est) # Avoid potential upper-lowercase conflicts.\n",
    "dh_data.year = string.(dh_data.year) # Avoid year unstack issues?\n",
    "filter!(r -> r.est == \"ctrl\", dh_data) # Filter out lower and upper estimates\n",
    "filter!(r -> typeof(r.val) != String, dh_data) # Filter out string values.\n",
    "unique!(dh_data)\n",
    "dh_data = extrapolate_years( # Fix some data consistency issues when it comes to `year`.\n",
    "    dh_data;\n",
    "    extrapolation_years=[2015, 2020, 2025, 2030, 2040, 2050],\n",
    "    combine=mean\n",
    ")\n",
    "dh_data = unstack(dh_data, :par, :val)\n",
    "\n",
    "# CAPEX, use MEUR/MW_e when possible, MEUR/MW_h when not found.\n",
    "dh_data[!, :CAPEX_MEUR_MW] = dh_data[!, Symbol(\"Nominal investment (*total) [MEUR/MW_e]\")]\n",
    "missing_inds = ismissing.(dh_data.CAPEX_MEUR_MW)\n",
    "dh_data[missing_inds, :CAPEX_MEUR_MW] = dh_data[missing_inds, Symbol(\"Nominal investment (*total) [MEUR/MW_h]\")]\n",
    "\n",
    "# FOM, use EUR/MW_e/y when possible, EUR/MW_h/y when not found.\n",
    "dh_data[!, :FOM_EUR_MW_y] = dh_data[!, Symbol(\"Fixed O&M (*total) [EUR/MW_e/y]\")]\n",
    "missing_inds = ismissing.(dh_data.FOM_EUR_MW_y)\n",
    "dh_data[missing_inds, :FOM_EUR_MW_y] = dh_data[missing_inds, Symbol(\"Fixed O&M (*total) [EUR/MW_h/y]\")]\n",
    "\n",
    "# VOM, use EUR/MWh_e when possible, EUR/MWh_h when not found.\n",
    "dh_data[!, :VOM_EUR_MWh] = dh_data[!, Symbol(\"Variable O&M (*total) [EUR/MWh_e]\")]\n",
    "missing_inds = ismissing.(dh_data.VOM_EUR_MWh)\n",
    "dh_data[missing_inds, :VOM_EUR_MWh] = dh_data[missing_inds, Symbol(\"Variable O&M (*total) [EUR/MWh_h]\")]\n",
    "\n",
    "# Lifetime, this is a simple `Technical lifetime`\n",
    "dh_data[!, :lifetime_y] = dh_data[!, Symbol(\"Technical lifetime [years]\")]\n",
    "\n",
    "# Conversion rate (output/input), first for elec. Use annual average before nameplate.\n",
    "dh_data[!, :conversion_rate_elec_pu] = dh_data[!, Symbol(\"Electrical efficiency (net, annual average) []\")]\n",
    "missing_inds = ismissing.(dh_data.conversion_rate_elec_pu)\n",
    "dh_data[missing_inds, :conversion_rate_elec_pu] = dh_data[missing_inds, Symbol(\"Electrical efficiency (net, name plate) []\")]\n",
    "\n",
    "# Conversion rate (output/input) for heat. Calculate based on electric conversion rate and Cb coefficient first, then supplement for heat only.\n",
    "dh_data[!, :conversion_rate_heat_pu] = dh_data[!, :conversion_rate_elec_pu] ./ dh_data[!, Symbol(\"Cb coefficient (50°C/100°C)\")]\n",
    "missing_inds = ismissing.(dh_data.conversion_rate_heat_pu)\n",
    "dh_data[missing_inds, :conversion_rate_heat_pu] = dh_data[missing_inds, :conversion_rate_elec_pu] ./ dh_data[missing_inds, Symbol(\"Cb coefficient (40°C/80°C)\")]\n",
    "missing_inds = ismissing.(dh_data.conversion_rate_heat_pu)\n",
    "dh_data[missing_inds, :conversion_rate_heat_pu] = dh_data[missing_inds, Symbol(\"Heat efficiency (net, annual average) []\")]\n",
    "missing_inds = ismissing.(dh_data.conversion_rate_heat_pu)\n",
    "dh_data[missing_inds, :conversion_rate_heat_pu] = dh_data[missing_inds, Symbol(\"Heat efficiency (net, name plate) []\")]\n",
    "\n",
    "# CO2 captured, zero for now, needs to be deduced from CC tech catalogue.\n",
    "dh_data[!, :CO2_captured_pu] .= 0.0\n",
    "\n",
    "# Currency is in 2020 Euros, based on `examine_generation_data.ipynb`\n",
    "dh_data[!, :currency] .= \"2020 EUR\"\n",
    "\n",
    "# Metadata is DEA technology catalogue\n",
    "dh_data[!, :metadata] .= \"Technology Data Catalogue for Electricity and district heating production - Updated 2024, Danish Energy Agency, 2024\"\n",
    "\n",
    "# Drop unnecessary parameters\n",
    "param_cols = [:Technology, :est, :year]\n",
    "params = [\n",
    "    :CAPEX_MEUR_MW,\n",
    "    :FOM_EUR_MW_y,\n",
    "    :VOM_EUR_MWh,\n",
    "    :lifetime_y,\n",
    "    :conversion_rate_elec_pu,\n",
    "    :conversion_rate_heat_pu,\n",
    "    :CO2_captured_pu,\n",
    "    :currency,\n",
    "    :metadata\n",
    "]\n",
    "dh_data = dh_data[!, vcat(param_cols, params)]\n",
    "describe(dh_data)"
   ]
  },
  {
   "cell_type": "code",
   "execution_count": null,
   "metadata": {},
   "outputs": [],
   "source": [
    "## Calculate the parameters for individual heating system data\n",
    "\n",
    "# Preprocessing\n",
    "cols = [:Technology, :par, :est, :year, :val] # Omit unnecessary cols\n",
    "heat_data = deepcopy(raw_heat_data[!, cols])\n",
    "heat_data.est = lowercase.(heat_data.est) # Avoid potential upper-lowercase conflicts.\n",
    "heat_data.year = string.(heat_data.year) # Avoid year unstack issues?\n",
    "filter!(r -> r.est == \"ctrl\", heat_data) # Filter out lower and upper estimates\n",
    "unique!(heat_data)\n",
    "filter!(r -> typeof(r.val) != String, heat_data) # Filter our some anomalous string data.\n",
    "heat_data = extrapolate_years( # Fix some data consistency issues when it comes to `year`.\n",
    "    heat_data;\n",
    "    extrapolation_years=[2020, 2025, 2030, 2040, 2050],\n",
    "    combine=mean\n",
    ")\n",
    "heat_data = unstack(heat_data, :par, :val; combine=mean)\n",
    "\n",
    "# CAPEX, need to scale investments per unit to investments per MW.\n",
    "heat_data[!, :CAPEX_MEUR_MW] = (\n",
    "    heat_data[!, Symbol(\"Nominal investment (*total) [k€/unit, 2020]\")] ./\n",
    "    heat_data[!, Symbol(\"Heat production capacity for one unit [kW_h]\")]\n",
    ")\n",
    "\n",
    "# FOM, Fixed costs EUR/unit/y scaled per unit to EUR/MW/y.\n",
    "heat_data[!, :FOM_EUR_MW_y] = (\n",
    "    heat_data[!, Symbol(\"Fixed O&M (*total) [€/unit/y, 2020]\")] ./\n",
    "    heat_data[!, Symbol(\"Heat production capacity for one unit [kW_h]\")] .*\n",
    "    1000 # Scaling from EUR/kW/y to EUR/MW/y\n",
    ")\n",
    "\n",
    "# VOM, primarily scaled based on the €/kWh values, missing values supplemented with €/MWh.\n",
    "heat_data[!, :VOM_EUR_MWh] = heat_data[!, Symbol(\"Variable O&M (*total) [€/kWh, 2020]\")] .* 1000\n",
    "missing_inds = ismissing.(heat_data.VOM_EUR_MWh)\n",
    "heat_data[missing_inds, :VOM_EUR_MWh] = heat_data[missing_inds, Symbol(\"Variable O&M (*total) [€/MWh_h, 2020]\")]\n",
    "\n",
    "# Lifetime\n",
    "heat_data[!, :lifetime_y] = heat_data[!, Symbol(\"Technical economic lifetime [years]\")]\n",
    "\n",
    "# Conversion rate (output/input) for elec is non-existent.\n",
    "heat_data[!, :conversion_rate_elec_pu] .= missing\n",
    "\n",
    "# Conversion rate (output/input) for heat, simple annual average heat efficiency supplemented with other values if missing.\n",
    "heat_data[!, :conversion_rate_heat_pu] = heat_data[!, Symbol(\"Heat efficiency (annual average, net) [p.u.]\")]\n",
    "for var in Symbol.([\n",
    "    \"Heat efficiency (annual average, net, total system, floor heating) [p.u.]\",\n",
    "    \"Heat efficiency (annual average, net, floor heating) [p.u.]\",\n",
    "    \"Heat efficiency (annual average, net, gas boiler heating) [p.u.]\",\n",
    "    \"Heat efficiency (annual average, net, heat pump, radiator heating) [p.u.]\",\n",
    "    \"Heat efficiency (annual average, net, hear pump, floor heating) [p.u.]\"\n",
    "])\n",
    "    missing_inds = ismissing.(heat_data.conversion_rate_heat_pu)\n",
    "    heat_data[missing_inds, :conversion_rate_heat_pu] = heat_data[missing_inds, var]\n",
    "end\n",
    "\n",
    "# CO2 captured, not relevant for individual heating.\n",
    "heat_data[!, :CO2_captured_pu] .= 0.0\n",
    "\n",
    "# Currency is in 2020 Euros, based on `examine_generation_data.ipynb`\n",
    "heat_data[!, :currency] .= \"2020 EUR\"\n",
    "\n",
    "# Metadata is DEA technology catalogue\n",
    "heat_data[!, :metadata] .= \"Technology catalogue for Individual Heating - Latest update April 2024, Danish Energy Agency, 2024\"\n",
    "\n",
    "# Drop unnecessary parameters\n",
    "param_cols = [:Technology, :est, :year]\n",
    "params = [\n",
    "    :CAPEX_MEUR_MW,\n",
    "    :FOM_EUR_MW_y,\n",
    "    :VOM_EUR_MWh,\n",
    "    :lifetime_y,\n",
    "    :conversion_rate_elec_pu,\n",
    "    :conversion_rate_heat_pu,\n",
    "    :CO2_captured_pu,\n",
    "    :currency,\n",
    "    :metadata\n",
    "]\n",
    "heat_data = heat_data[!, vcat(param_cols, params)]\n",
    "describe(heat_data)"
   ]
  },
  {
   "cell_type": "code",
   "execution_count": null,
   "metadata": {},
   "outputs": [],
   "source": [
    "## Calculate parameters for cc_data\n",
    "\n",
    "# The CC technologies are a bit of a special case,\n",
    "# as we need to only concern ourselves with very specific technologies\n",
    "# and manually provide the assumed thermal capacities.\n",
    "# Furthermore, these parameters are assumed to apply on top of underlying\n",
    "# technology parameters, representing additional investments and costs.\n",
    "# However, conversion rate impacts are multiplicative!\n",
    "cols = [:Technology, :par, :est, :year, :val] # Omit unnecessary cols\n",
    "cc_data = filter(\n",
    "    r -> r.Technology in combustion_cc,\n",
    "    raw_cc_data[!, cols]\n",
    ")\n",
    "cc_data.est = lowercase.(cc_data.est) # Avoid potential upper-lowercase conflicts.\n",
    "filter!(r -> r.est == \"est\", cc_data) # Filter out lower and upper estimates\n",
    "cc_data.est .= \"ctrl\" # Rename \"est\" to \"ctrl\" to align with dh and heat catalogues.\n",
    "cc_data.year = string.(cc_data.year) # Avoid year unstack issues?\n",
    "unique!(cc_data)\n",
    "filter!(r -> typeof(r.val) != String, cc_data)\n",
    "cc_data = extrapolate_years( # Fix some data consistency issues when it comes to `year`.\n",
    "    cc_data;\n",
    "    extrapolation_years=[2020, 2025, 2030, 2040, 2050],\n",
    "    combine=mean\n",
    ")\n",
    "cc_data = unstack(cc_data, :par, :val; combine=mean)\n",
    "\n",
    "# Manually map thermal capacities\n",
    "thermal_capacity_map = Dict(zip(String.(combustion_cc), [500, 500, 100]))\n",
    "cc_data[!, :thermal_capacity_MW] = map(\n",
    "    key -> thermal_capacity_map[key],\n",
    "    cc_data.Technology\n",
    ")\n",
    "\n",
    "# CAPEX, needs to be calculated based on the assumed thermal capacity and other parameters, as well as account for different paramter spellings.\n",
    "cc_data[!, :CAPEX_MEUR_MW] = (\n",
    "    cc_data[!, Symbol(\"Typical total plant capacity [tCO2/hour] (CO2 output)\")] ./\n",
    "    cc_data.thermal_capacity_MW .*\n",
    "    cc_data[!, Symbol(\"Specific investment [mill €/[tCO2/hour]] (CO2 output)\")]\n",
    ")\n",
    "for var in Symbol.([ # Check for potential alternative spellings.\n",
    "    #\"Specific investment [mill €/(tCO2/hour)] (CO2 output)\", # Does not occur in combustion_cc\n",
    "    \"Specific investment [mill € /(tCO2/hour)] (CO2 output)\"\n",
    "])\n",
    "    missing_inds = ismissing.(cc_data.CAPEX_MEUR_MW)\n",
    "    cc_data[missing_inds, :CAPEX_MEUR_MW] = (\n",
    "        cc_data[missing_inds, Symbol(\"Typical total plant capacity [tCO2/hour] (CO2 output)\")] ./\n",
    "        cc_data[missing_inds, :thermal_capacity_MW] .*\n",
    "        cc_data[missing_inds, var]\n",
    "    )\n",
    "end\n",
    "\n",
    "# FOM, again needs to be calculated based on the assumed thermal capacity and account for various potential spellings.\n",
    "cc_data[!, :FOM_EUR_MW_y] = (\n",
    "    cc_data[!, Symbol(\"Typical total plant capacity [tCO2/hour] (CO2 output)\")] ./\n",
    "    cc_data.thermal_capacity_MW .*\n",
    "    cc_data[!, Symbol(\"Fixed O&M [mill €/[tCO2/hour]] (CO2 output)\")] .* # Apparently assumed 3% of CAPEX\n",
    "    1e6 # Scaling from MEUR to EUR.\n",
    ")\n",
    "for var in Symbol.([ # Check for potential alternative spellings.\n",
    "    #\"Fixed O&M [mill €/(tCO2/hour)]\", # Not found in combustion_cc\n",
    "    \"Fixed O&M [mill € /(tCO2/hour)] (CO2 output)\",\n",
    "    #\"Fixed O&M [EUR/tCO2/year]\", # Wrong scaling # Not found in combustion_cc\n",
    "    #\"Fixed O&M 2 t CO₂/h [mill €/(tCO2/hour)] (CO2 output)\", # Not found in combustion_cc\n",
    "    #\"Fixed O&M [€/ton CO2, 2020]\", # Not found in combustion_cc\n",
    "    #\"Fixed O&M [mill € /(tCO2/Hour)] (CO2 output)\" # Not found in combustion_cc\n",
    "])\n",
    "    missing_inds = ismissing.(cc_data.FOM_EUR_MW_y)\n",
    "    cc_data[missing_inds, :FOM_EUR_MW_y] = (\n",
    "        cc_data[missing_inds, Symbol(\"Typical total plant capacity [tCO2/hour] (CO2 output)\")] ./\n",
    "        cc_data[missing_inds, :thermal_capacity_MW] .*\n",
    "        cc_data[missing_inds, var] .* # Apparently assumed 3% of CAPEX\n",
    "        1e6 # Scaling from MEUR to EUR.\n",
    "    )\n",
    "end\n",
    "\n",
    "# VOM, account for typical capacity, seems like spelling is consistent for once.\n",
    "cc_data[!, :VOM_EUR_MWh] = (\n",
    "    cc_data[!, Symbol(\"Typical total plant capacity [tCO2/hour] (CO2 output)\")] ./\n",
    "    cc_data.thermal_capacity_MW .*\n",
    "    cc_data[!, Symbol(\"Variable O&M [€/tCO2] (CO2 output)\")]\n",
    ")\n",
    "\n",
    "# Lifetime not assumed to change due to CC\n",
    "cc_data[!, :lifetime_y] .= 0.0\n",
    "\n",
    "# Conversion rate (output/input), first for heat, as it is more straightforward.\n",
    "cc_data[!, :conversion_rate_heat_pu] = 1 .- (\n",
    "    cc_data[!, Symbol(\"Typical total plant capacity [tCO2/hour] (CO2 output)\")] .*\n",
    "    cc_data[!, Symbol(\"C1] Heat  input [MWh/tCO2] (CO2 output)\")] ./\n",
    "    cc_data.thermal_capacity_MW\n",
    ")\n",
    "for var in Symbol.([ # Handle alternative spellings\n",
    "    \"C1] Heat  input [MWh/t CO2] (CO2 output)\",\n",
    "    #\"C1] Heat  input [MWh/tCO2] (CO2 output) \" # Not found in combustion_cc\n",
    "])\n",
    "    missing_inds = ismissing.(cc_data.conversion_rate_heat_pu)\n",
    "    cc_data[missing_inds, :conversion_rate_heat_pu] = 1 .- (\n",
    "        cc_data[missing_inds, Symbol(\"Typical total plant capacity [tCO2/hour] (CO2 output)\")] .*\n",
    "        cc_data[missing_inds, var] ./\n",
    "        cc_data[missing_inds, :thermal_capacity_MW]\n",
    "    )\n",
    "end\n",
    "\n",
    "# Conversion rate (output/input) for elec, assumes identical drop to heat production.\n",
    "cc_data[!, :conversion_rate_elec_pu] = cc_data[!, :conversion_rate_heat_pu]\n",
    "\n",
    "# CO2 captured, again have to handle \n",
    "cc_data[!, :CO2_captured_pu] = cc_data[!, Symbol(\"A3] CO2 capture rate, net [%]\")]\n",
    "missing_inds = ismissing.(cc_data.CO2_captured_pu)\n",
    "cc_data[missing_inds, :CO2_captured_pu] = cc_data[missing_inds, Symbol(\"Ax] CO2 capture rate, net [%]\")]\n",
    "scaled_inds = cc_data.CO2_captured_pu .> 1.0 # Some values are given in percents between 1-100, so handle via scaling.\n",
    "cc_data[scaled_inds, :CO2_captured_pu] ./= 100\n",
    "\n",
    "# Currency is in 2020 Euros, based on `examine_generation_data.ipynb`\n",
    "cc_data[!, :currency] .= \"2020 EUR\"\n",
    "\n",
    "# Metadata is DEA technology catalogue\n",
    "cc_data[!, :metadata] .= \"Technology catalogue for carbon capture, transport and storage - Updated April 2024, Danish Energy Agency, 2024\"\n",
    "\n",
    "# Drop unnecessary parameters\n",
    "param_cols = [:Technology, :est, :year]\n",
    "params = [\n",
    "    :CAPEX_MEUR_MW,\n",
    "    :FOM_EUR_MW_y,\n",
    "    :VOM_EUR_MWh,\n",
    "    :lifetime_y,\n",
    "    :conversion_rate_elec_pu,\n",
    "    :conversion_rate_heat_pu,\n",
    "    :CO2_captured_pu,\n",
    "    :currency,\n",
    "    :metadata\n",
    "]\n",
    "cc_data = cc_data[!, vcat(param_cols, params)]\n",
    "describe(cc_data)"
   ]
  },
  {
   "cell_type": "markdown",
   "metadata": {},
   "source": [
    "## Technology mapping\n",
    "\n",
    "Mapping the suitable technologies to their desired Mopo WP5 counterparts,\n",
    "as well as the applicable carbon capture technologies.\n",
    "\n",
    "Missing coal and oil boiler parameters have been mapped to either gas or oil,\n",
    "whichever was available."
   ]
  },
  {
   "cell_type": "code",
   "execution_count": null,
   "metadata": {},
   "outputs": [],
   "source": [
    "technology_mapping = Dict( # (Set of technologies, apply carbon capture)\n",
    "    \"bio-CHP\" => (bio_chp, false),\n",
    "    \"bio-CHP+CC\" => (bio_chp, true),\n",
    "    \"gas-CHP\" => (gas_chp, false),\n",
    "    \"gas-CHP+CC\" => (gas_chp, true),\n",
    "    \"coal-CHP\" => (coal_chp, false),\n",
    "    \"coal-CHP+CC\" => (coal_chp, true),\n",
    "    \"nuclear-CHP\" => (Set(), false), # No data in DEA catalogue.\n",
    "    \"fuelcell-CHP\" => (fuelcell_chp, false),\n",
    "    \"waste-CHP\" => (waste_chp, false),\n",
    "    \"bio-boiler-DH\" => (bio_boiler_dh, false),\n",
    "    \"bio-boiler-DH+CC\" => (bio_boiler_dh, true),\n",
    "    \"gas-boiler-DH\" => (gas_boiler_dh, false),\n",
    "    \"oil-boiler-DH\" => (gas_boiler, false), # No data in DEA catalogue, map to gas heat-only boiler.\n",
    "    \"coal-boiler-DH\" => (gas_boiler, false), # No data in DEA catalogue, map to gas heat-only boiler.\n",
    "    \"elec-boiler-DH\" => (elec_boiler_dh, false),\n",
    "    \"heatpump-DH\" => (heatpump_dh, false),\n",
    "    \"solar-DH\" => (solar_dh, false),\n",
    "    \"geothermal-DH\" => (geothermal_dh, false),\n",
    "    \"waste-DH\" => (waste_dh, false),\n",
    "    \"gas-boiler\" => (gas_boiler, false),\n",
    "    \"bio-boiler\" => (bio_boiler, false),\n",
    "    \"oil-boiler\" => (oil_boiler, false),\n",
    "    \"coal-boiler\" => (oil_boiler, false), # No data in DEA catalogue, map to oil boiler parameters.\n",
    "    \"air-heatpump\" => (air_heatpump, false),\n",
    "    \"ground-heatpump\" => (ground_heatpump, false),\n",
    "    \"solar-heating\" => (solar_heating, false),\n",
    "    \"electric-heating\" => (electric_heating, false),\n",
    "    \"bio-microCHP\" => (Set(), false), # No data in DEA catalogue.\n",
    "    \"gas-microCHP\" => (Set(), false), # No data in DEA catalogue.\n",
    "    \"fuelcell-microCHP\" => (Set(), false), # No data in DEA catalogue.\n",
    "    \"nuclear-SMR-heat\" => (Set(), false) # No data in DEA catalogue.\n",
    ");"
   ]
  },
  {
   "cell_type": "markdown",
   "metadata": {},
   "source": [
    "## Calculate aggregated parameters based on the above mappings\n",
    "\n",
    "With the DEA catelogue technologies mapped to the desired categories,\n",
    "it is finally time to calculate the final parameter tables.\n",
    "Unfortunately, not all technologies are available from the catalogue,\n",
    "so I'll likely have to rely on the PyPSA `technology-data` repository\n",
    "as a backup. In any case, it also serves as a comparison to check\n",
    "if my processing is at least more or less correct."
   ]
  },
  {
   "cell_type": "code",
   "execution_count": null,
   "metadata": {},
   "outputs": [],
   "source": [
    "## Calculate the average carbon capture technology parameters\n",
    "\n",
    "cc_data_agg = stack(cc_data)\n",
    "cc_data_agg = combine(\n",
    "    groupby(cc_data_agg, [:year, :currency, :metadata, :variable]),\n",
    "    :value => mean\n",
    ")\n",
    "cc_data_agg = unstack(cc_data_agg, :variable, :value_mean)\n",
    "describe(cc_data_agg)"
   ]
  },
  {
   "cell_type": "code",
   "execution_count": null,
   "metadata": {},
   "outputs": [],
   "source": [
    "## Combine dh and heat data into a single dataset for processing, and join with cc params.\n",
    "\n",
    "# Config\n",
    "final_years = string.([2020, 2030, 2040, 2050])\n",
    "\n",
    "# Data processing\n",
    "full_data = filter(\n",
    "    r -> r.year in final_years,\n",
    "    vcat(dh_data, heat_data)\n",
    ")\n",
    "leftjoin!(\n",
    "    full_data,\n",
    "    cc_data_agg;\n",
    "    on = [:year, :currency],\n",
    "    makeunique = true\n",
    ")\n",
    "describe(full_data);"
   ]
  },
  {
   "cell_type": "code",
   "execution_count": null,
   "metadata": {},
   "outputs": [],
   "source": [
    "## Form the desired technology parameter table\n",
    "\n",
    "cols = [\n",
    "    :technology,\n",
    "    :year,\n",
    "    :CAPEX_MEUR_MW,\n",
    "    :FOM_EUR_MW_y,\n",
    "    :VOM_EUR_MWh,\n",
    "    :lifetime_y,\n",
    "    :conversion_rate_elec_pu,\n",
    "    :conversion_rate_heat_pu,\n",
    "    :CO2_captured_pu,\n",
    "    :currency,\n",
    "    :metadata\n",
    "]\n",
    "desired_data = DataFrame()\n",
    "for (name, (techs, apply_cc)) in technology_mapping\n",
    "    # Filter relevant technologies.\n",
    "    df = filter(\n",
    "        r -> r.Technology in techs,\n",
    "        full_data\n",
    "    )\n",
    "    if isempty(df) # Skip the rest of the loop if df is empty.\n",
    "        continue\n",
    "    end\n",
    "    # Calculate average properties\n",
    "    df = unstack(\n",
    "        combine(\n",
    "            groupby(stack(df), [:year, :currency, :metadata, :metadata_1, :variable]),\n",
    "            :value => mean\n",
    "        ),\n",
    "        :variable,\n",
    "        :value_mean\n",
    "    )\n",
    "    if apply_cc\n",
    "        df.CAPEX_MEUR_MW .+= df.CAPEX_MEUR_MW_1\n",
    "        df.FOM_EUR_MW_y .+= df.FOM_EUR_MW_y_1\n",
    "        df.VOM_EUR_MWh .+= df.VOM_EUR_MWh_1\n",
    "        df.conversion_rate_elec_pu .*= df.conversion_rate_elec_pu_1 # Multiplicative!\n",
    "        df.conversion_rate_heat_pu .*= df.conversion_rate_heat_pu_1 # Multiplicative!\n",
    "        df.CO2_captured_pu .+= df.CO2_captured_pu_1\n",
    "        df.metadata .*= \", \" .* df.metadata_1 # String concat!\n",
    "    end\n",
    "    # Final formatting\n",
    "    df.technology .= name\n",
    "    append!(desired_data, df[!, cols])\n",
    "end\n",
    "describe(desired_data)"
   ]
  },
  {
   "cell_type": "markdown",
   "metadata": {},
   "source": [
    "## Convert monetary units from 2020 EUR to 2025 EUR\n",
    "\n",
    "For the purposes of Mopo, we need to convert the 2020 EUR into 2025 EUR.\n",
    "This is done using the [harmonised index of consumer prices](https://ec.europa.eu/eurostat/cache/metadata/en/prc_hicp_esms.htm)\n",
    "using the *annual averate rate of change `RCH_A_AVG`* for the full *Euro Area* for the years 2020-2024.\n",
    "\n",
    "[Link to the data source](https://doi.org/10.2908/PRC_HICP_AIND)."
   ]
  },
  {
   "cell_type": "code",
   "execution_count": null,
   "metadata": {},
   "outputs": [],
   "source": [
    "## Convert 2020 EUR to 2025 EUR using HICP\n",
    "\n",
    "# Copy desired data to avoid messing with things on multiple executions.\n",
    "final_data = deepcopy(desired_data)\n",
    "\n",
    "# Annual rate of change in consumer prices for the Euro area, see data source above.\n",
    "hicp_rch_a_avg_2020_2024 = [0.3, 2.6, 8.4, 5.4, 2.4] ./ 100 \n",
    "# Calculate total conversion factor by multiplicatively applying the changes.\n",
    "eur_2020_to_2025_conversion_factor = prod(1 .+ hicp_rch_a_avg_2020_2024)\n",
    "\n",
    "# Apply monetary conversion to the desired fields\n",
    "for field in [\n",
    "    :CAPEX_MEUR_MW,\n",
    "    :FOM_EUR_MW_y,\n",
    "    :VOM_EUR_MWh\n",
    "]\n",
    "    final_data[!, field] .*= eur_2020_to_2025_conversion_factor\n",
    "end\n",
    "# Set correct monetary unit and show\n",
    "final_data.currency .= \"2025 EUR\"\n",
    "describe(final_data)"
   ]
  },
  {
   "cell_type": "markdown",
   "metadata": {},
   "source": [
    "## Inspect missing data\n",
    "\n",
    "Unfortunately, the DEA catalogues aren't 100% consistent,\n",
    "and there are some parameters missing that we'll likely have to fix.\n",
    "First, we at least have a lot of techs where the 2040 values are missing.\n",
    "Fortunately, these we can interpolate from the 2030 and 2050 values.\n",
    "\n",
    "A more fundamental question is what to do with the technologies that\n",
    "don't have any parameters at all, namely:\n",
    "1. `oil-boiler-DH` and `coal-boiler-DH` for heat-only boilers. These exist in some countries, but whether we'll even have the existing capacities remains to be seen.\n",
    "2. `nuclear-CHP` and `nuclear-SMR-heat` don't exist currently as far as I know, but are seen as potential future technologies of interest.\n",
    "3. `bio-microCHP`, `gas-microCHP`, and `fuelcell-microCHP` very hypothetical future technologies, that I'm personally rather sceptical about.\n",
    "\n",
    "The DH HOBs would be nice to have for the current system,\n",
    "but it would seem like the PyPSA technology data catalogue doesn't have them either.\n",
    "Furthermore, they are likely to become less relevant in the future,\n",
    "when fossil fuels are expected to be phased out anyhow.\n",
    "The nuclear options would be nice to have for 2040-2050,\n",
    "as they might be used to supply fossil-free district heating."
   ]
  },
  {
   "cell_type": "code",
   "execution_count": null,
   "metadata": {},
   "outputs": [],
   "source": [
    "## Check missing lifetimes, no longer an issue after omitting OCGTs from `Gas CHP`.\n",
    "\n",
    "missing_inds = ismissing.(final_data.lifetime_y)\n",
    "final_data[missing_inds, :]"
   ]
  },
  {
   "cell_type": "code",
   "execution_count": null,
   "metadata": {},
   "outputs": [],
   "source": [
    "## Check missing elec conversion rates\n",
    "\n",
    "missing_inds = ismissing.(final_data.conversion_rate_elec_pu)\n",
    "Set(final_data[missing_inds, :technology])\n",
    "\n",
    "# Heat-only units, as it should be."
   ]
  },
  {
   "cell_type": "code",
   "execution_count": null,
   "metadata": {},
   "outputs": [],
   "source": [
    "## Check missing heat conversion rates\n",
    "\n",
    "missing_inds = ismissing.(final_data.conversion_rate_heat_pu)\n",
    "final_data[missing_inds, [:technology, :year, :conversion_rate_heat_pu]]\n",
    "\n",
    "# Coal CHP was missing 2050 Cb coefficients,\n",
    "# but this is fixed by pre-processing extrapolation.\n",
    "# Solar heating also lacks conversion rates,\n",
    "# but these need to be treated differently in modelling anyways."
   ]
  },
  {
   "cell_type": "markdown",
   "metadata": {},
   "source": [
    "## Format and export technology parameters"
   ]
  },
  {
   "cell_type": "code",
   "execution_count": null,
   "metadata": {},
   "outputs": [],
   "source": [
    "## Format and export technology parameters\n",
    "\n",
    "# Config\n",
    "exportcols = [\n",
    "    :technology,\n",
    "    :year,\n",
    "    :CAPEX_MEUR_MW,\n",
    "    :FOM_EUR_MW_y,\n",
    "    :VOM_EUR_MWh,\n",
    "    :lifetime_y,\n",
    "    :conversion_rate_elec_pu,\n",
    "    :conversion_rate_heat_pu,\n",
    "    :CO2_captured_pu,\n",
    "    :currency,\n",
    "    :metadata\n",
    "]\n",
    "roundcols = exportcols[3:9]\n",
    "dgts = 2 # Number of digits for rounding floats\n",
    "\n",
    "# Export\n",
    "export_df = sort(deepcopy(final_data))\n",
    "export_df[!, roundcols] = round.(export_df[!, roundcols]; digits=dgts)\n",
    "CSV.write(\"output/heating_technology_params.csv\", export_df)\n"
   ]
  }
 ],
 "metadata": {
  "kernelspec": {
   "display_name": "Julia 1.11.5",
   "language": "julia",
   "name": "julia-1.11"
  },
  "language_info": {
   "file_extension": ".jl",
   "mimetype": "application/julia",
   "name": "julia",
   "version": "1.11.5"
  }
 },
 "nbformat": 4,
 "nbformat_minor": 2
}
