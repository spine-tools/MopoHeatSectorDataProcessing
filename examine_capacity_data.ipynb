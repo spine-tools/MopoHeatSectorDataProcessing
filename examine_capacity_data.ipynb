{
 "cells": [
  {
   "cell_type": "markdown",
   "metadata": {},
   "source": [
    "# Examine heat-only generation capacity data.\n",
    "\n",
    "This notebook aims to examine the raw data available for heat-only generation capacity.\n",
    "Essentially, it's prep for eventually preparing it into a form useable by WP5."
   ]
  },
  {
   "cell_type": "code",
   "execution_count": null,
   "metadata": {},
   "outputs": [],
   "source": [
    "## Activate (and set up) the required Julia environment\n",
    "\n",
    "using Pkg # Julia package manager.\n",
    "Pkg.activate(@__DIR__) # Activate the Julia environment in the folder this file is in (namely the `Project.toml`)\n",
    "Pkg.instantiate() # Download and install the necessary dependencies.\n",
    "\n",
    "# Load dependencies\n",
    "using CSV\n",
    "using XLSX\n",
    "using DataFrames\n",
    "using StatsPlots"
   ]
  },
  {
   "cell_type": "markdown",
   "metadata": {},
   "source": [
    "## Reading and examining the capacity data\n",
    "\n",
    "The excel file isn't the easiest form for reading,\n",
    "as cells are merged left and right to make it visually clearer.\n",
    "Also, there are a number of hidden columns for sub-dividing\n",
    "the capacity into different capacity and age classes.\n",
    "However, we're only really interested in the total capacities,\n",
    "and I expect the capacity and age class information is even more\n",
    "scarse than the total capacity."
   ]
  },
  {
   "cell_type": "code",
   "execution_count": null,
   "metadata": {},
   "outputs": [],
   "source": [
    "## Read the excel file.\n",
    "\n",
    "raw_capacity_data = DataFrame(\n",
    "    XLSX.readtable(\n",
    "        \"input-data\\\\ENER-C2-2014-641\\\\WP2_DataAnnex_3_DistrictHeating_ForPublication_201603.xlsx\",\n",
    "        \"Technology - Stock\",\n",
    "        \"A:D\";\n",
    "        first_row = 8,\n",
    "        header = false,\n",
    "        column_labels = [\n",
    "            :code,\n",
    "            :country,\n",
    "            :technology,\n",
    "            :total_installed_thermal_capacity_MW_th\n",
    "        ]\n",
    "    )\n",
    ")\n",
    "raw_capacity_data"
   ]
  },
  {
   "cell_type": "code",
   "execution_count": null,
   "metadata": {},
   "outputs": [],
   "source": [
    "## Check the set of technologies\n",
    "\n",
    "Set(raw_capacity_data.technology)\n",
    "\n",
    "# Less than I was expecting, that's nice."
   ]
  },
  {
   "cell_type": "code",
   "execution_count": null,
   "metadata": {},
   "outputs": [],
   "source": [
    "## Which countries do we have with any heat-only capacity data?\n",
    "\n",
    "df = dropmissing(raw_capacity_data)\n",
    "# Heat only\n",
    "df_heat_only = filter(r -> !contains(r.technology, \"CHP\"), df)\n",
    "df_heat_only = combine(\n",
    "    groupby(df_heat_only, [:code, :country]),\n",
    "    :total_installed_thermal_capacity_MW_th => sum\n",
    ")\n",
    "# CHP\n",
    "df_chp = filter(r -> contains(r.technology, \"CHP\"), df)\n",
    "df_chp = combine(\n",
    "    groupby(df_chp, [:code, :country]),\n",
    "    :total_installed_thermal_capacity_MW_th => sum\n",
    ")\n",
    "# Combined\n",
    "df = leftjoin(df_chp, df_heat_only; on=[:code, :country], makeunique=true)"
   ]
  },
  {
   "cell_type": "code",
   "execution_count": null,
   "metadata": {},
   "outputs": [],
   "source": [
    "## Plot for visual inspection\n",
    "\n",
    "sort!(df)\n",
    "groupedbar(\n",
    "    df.code,\n",
    "    Matrix(df[!, end-1:end]),\n",
    "    bar_position = :stack,\n",
    "    xrotation = 90,\n",
    "    label = [\"CHP\" \"heat only\"],\n",
    "    title = \"Heat generation capacity from EU HC Tender\",\n",
    "    ylabel = \"Capacity [MW]\"\n",
    ")"
   ]
  },
  {
   "cell_type": "markdown",
   "metadata": {},
   "source": [
    "So we have data for 31 countries, which is far better than I had hoped.\n",
    "It even seems like the data is at least partially on the right track,\n",
    "as Finland has a total capacity of ~25 GW which is somewhat close to national\n",
    "district heating statistics.\n",
    "\n",
    "Although, there are clear outliers as well.\n",
    "There's no way Sweden only has 139 MW of district heating capacity."
   ]
  },
  {
   "cell_type": "markdown",
   "metadata": {},
   "source": [
    "### District heating demand according to Hotmaps?\n",
    "\n",
    "For comparison, let's check the yearly DH demands per country from Hotmaps."
   ]
  },
  {
   "cell_type": "code",
   "execution_count": null,
   "metadata": {},
   "outputs": [],
   "source": [
    "## Plot district heating demand from Hotmaps for comparison\n",
    "\n",
    "demand_data_raw = DataFrame(\n",
    "    CSV.File(\"input-data\\\\scen_current_building_demand\\\\data\\\\scen_current_building_demand.csv\")\n",
    ")\n",
    "df = demand_data_raw[.!ismissing.(demand_data_raw.Scenario), :]\n",
    "df = filter(\n",
    "    r -> r.Scenario == \"current\" && r.Year == 2015 && r.Fuel == \"District heating\",\n",
    "    df\n",
    ")\n",
    "df = combine(\n",
    "    groupby(df, [:NUTS0_code]),\n",
    "    :Value => sum\n",
    ")\n",
    "sort!(df)\n",
    "bar(\n",
    "    df.NUTS0_code,\n",
    "    df.Value_sum;\n",
    "    xticks = (1:length(df.NUTS0_code), df.NUTS0_code),\n",
    "    xrotation = 45,\n",
    "    title = \"DH demand from Hotmaps\",\n",
    "    ylabel = \"DH final energy demand [GWh]\"\n",
    ")"
   ]
  },
  {
   "cell_type": "markdown",
   "metadata": {},
   "source": [
    "### Heat-only generation from JRC-IDEES?\n",
    "\n",
    "JRC-IDEES 2021 provides some estimates for heat-only generation for the EU27.\n",
    "Let's see how that compares."
   ]
  },
  {
   "cell_type": "code",
   "execution_count": null,
   "metadata": {},
   "outputs": [],
   "source": [
    "## Read JRC heat-only data\n",
    "\n",
    "eu27 = readdir(\"input-data\\\\JRC-IDEES-2021\")\n",
    "filter!(s -> !contains(s, '.') && !contains(s, \"EU27\"), eu27)\n",
    "jrc_data_raw = DataFrame()\n",
    "for country in eu27\n",
    "    df = DataFrame(XLSX.readtable(\n",
    "        \"input-data\\\\JRC-IDEES-2021\\\\$(country)\\\\JRC-IDEES-2021_PowerGen_$(country).xlsx\",\n",
    "        \"DistHeat\";\n",
    "        first_row = 3, # Total gross distributed heat production (GWh) - Conventional thermal\n",
    "        header = false,\n",
    "        column_labels = vcat([\"fuel\"], string.(collect(2000:2021)))\n",
    "    ))\n",
    "    df.country .= country\n",
    "    append!(jrc_data_raw, df)\n",
    "end\n",
    "jrc_data_raw"
   ]
  },
  {
   "cell_type": "code",
   "execution_count": null,
   "metadata": {},
   "outputs": [],
   "source": [
    "## Check fuels\n",
    "\n",
    "Set(jrc_data_raw.fuel)\n",
    "\n",
    "# Works out with the length of the dataframe, 23*27=621\n",
    "# so every country seems to have identical data format."
   ]
  },
  {
   "cell_type": "code",
   "execution_count": null,
   "metadata": {},
   "outputs": [],
   "source": [
    "## Omit totals rows and plot JRC stats\n",
    "\n",
    "# We want to avoid double-counting some rows.\n",
    "fuels_to_omit = [\n",
    "    \"Conventional thermal\",\n",
    "    \"Residual fuel oil\",\n",
    "    \"Other petroleum products\",\n",
    "    \"Natural gas\",\n",
    "    \"Biogas\",\n",
    "    \"Solid biomass\",\n",
    "    \"Renewable municipal waste\",\n",
    "    \"Industrial wastes\",\n",
    "    \"Non-renewable municipal waste\"\n",
    "]\n",
    "jrc_data = jrc_data_raw[!, [:country, :fuel, Symbol(2021)]] # We're only interested in the latest data.\n",
    "filter!(r -> !in(r.fuel, fuels_to_omit), jrc_data)\n",
    "jrc_data = unstack(jrc_data, :fuel, Symbol(2021))\n",
    "groupedbar(\n",
    "    jrc_data.country,\n",
    "    float.(Matrix(jrc_data[!, 2:end]));\n",
    "    bar_position = :stack,\n",
    "    legend_position = :outerright,\n",
    "    xrotation = 90,\n",
    "    size = (900, 400),\n",
    "    label = permutedims(names(jrc_data)[2:end]),\n",
    "    title = \"Gross heat-only production\",\n",
    "    ylabel = \"Heat [GWh/year]\"\n",
    ")"
   ]
  },
  {
   "cell_type": "markdown",
   "metadata": {},
   "source": [
    "## CHP generation from JRC-IDEES?\n",
    "\n",
    "While we're at it, let's also take a look at the CHP production data,\n",
    "since it's available in the same excel files anyhow.\n",
    "Capacity data also exists, but it's almost certainly given in electric power,\n",
    "not thermal power."
   ]
  },
  {
   "cell_type": "code",
   "execution_count": null,
   "metadata": {},
   "outputs": [],
   "source": [
    "## Read and process JRC-IDEES CHP heat production data.\n",
    "\n",
    "eu27 = readdir(\"input-data\\\\JRC-IDEES-2021\")\n",
    "filter!(s -> !contains(s, '.') && !contains(s, \"EU27\"), eu27)\n",
    "jrc_chp_production_raw = DataFrame()\n",
    "for country in eu27\n",
    "    df = DataFrame(XLSX.readtable(\n",
    "        \"input-data\\\\JRC-IDEES-2021\\\\$(country)\\\\JRC-IDEES-2021_PowerGen_$(country).xlsx\",\n",
    "        \"Thermal_CHP\";\n",
    "        first_row = 75, # Total gross distributed heat production (GWh) - Coal\n",
    "        header = false,\n",
    "        column_labels = vcat([\"fuel\"], string.(collect(2000:2021)))\n",
    "    ))\n",
    "    df.country .= country\n",
    "    append!(jrc_chp_production_raw, df)\n",
    "end\n",
    "jrc_chp_production_raw"
   ]
  },
  {
   "cell_type": "code",
   "execution_count": null,
   "metadata": {},
   "outputs": [],
   "source": [
    "## Check set of CHP fuels\n",
    "\n",
    "Set(jrc_chp_production_raw.fuel)\n",
    "\n",
    "# Length checks out with raw data, 10*27=270,\n",
    "# so every country seems to have full table of data."
   ]
  },
  {
   "cell_type": "code",
   "execution_count": null,
   "metadata": {},
   "outputs": [],
   "source": [
    "## Plot JRC-stats\n",
    "\n",
    "chp_plot_data = jrc_chp_production_raw[!, [:country, :fuel, Symbol(2021)]]\n",
    "chp_plot_data = unstack(chp_plot_data, :fuel, Symbol(2021))\n",
    "groupedbar(\n",
    "    chp_plot_data.country,\n",
    "    float.(Matrix(chp_plot_data[!, 2:end]));\n",
    "    bar_position = :stack,\n",
    "    legend_position = :outerright,\n",
    "    xrotation = 90,\n",
    "    size = (700, 400),\n",
    "    label = permutedims(names(chp_plot_data)[2:end]),\n",
    "    title = \"CHP heat production\",\n",
    "    ylabel = \"Heat [GWh/year]\"\n",
    ")"
   ]
  },
  {
   "cell_type": "code",
   "execution_count": null,
   "metadata": {},
   "outputs": [],
   "source": [
    "## Plot JRC CHP versus heat-only production.\n",
    "\n",
    "heat_only_total_per_country = combine(\n",
    "    groupby(\n",
    "        stack(jrc_data, names(jrc_data)[2:end]),\n",
    "        :country\n",
    "    ),\n",
    "    :value => sum\n",
    ")\n",
    "chp_total_per_country = combine(\n",
    "    groupby(\n",
    "        stack(chp_plot_data, names(chp_plot_data)[2:end]),\n",
    "        :country\n",
    "    ),\n",
    "    :value => sum\n",
    ")\n",
    "jrc_comparison_data = leftjoin(\n",
    "    heat_only_total_per_country,\n",
    "    chp_total_per_country;\n",
    "    on = :country,\n",
    "    makeunique = true\n",
    ")\n",
    "groupedbar(\n",
    "    jrc_comparison_data.country,\n",
    "    float.(Matrix(jrc_comparison_data[!, 2:end]));\n",
    "    bar_position = :stack,\n",
    "    legend_position = :outerright,\n",
    "    xrotation = 90,\n",
    "    size = (700, 400),\n",
    "    label = [\"Heat-only\" \"CHP\"],\n",
    "    title = \"JRC heat-only vs CHP heat production\",\n",
    "    ylabel = \"Heat [GWh/year]\"\n",
    ")"
   ]
  },
  {
   "cell_type": "markdown",
   "metadata": {},
   "source": [
    "## Conclusions\n",
    "\n",
    "I doubt we can rely on this data without at least some backup.\n",
    "The HC tender data coverage seems better than it likely is,\n",
    "as compared to the Hotmaps and JRC-IDEES demands\n",
    "the capacities don't seem feasible for every country.\n",
    "Poland, Sweden, France, and Austria seem to be the worst cases.\n",
    "\n",
    "\n",
    "### The plan?\n",
    "\n",
    "1. Estimate the worst-case ratio of peak useful district heating demand to yearly demand by country using the demand data timeseries.\n",
    "2. Estimate the share of heat-only generation in district heating production using JRC-IDEES data, as well as map the to-be-modelled technologies to their respective fuel shares.\n",
    "3. Use Hotmaps yearly DH demand and the above shares to estimate the existing heat-only capacity per country.\n",
    "\n",
    "Again, we'll likely have to map missing data from neighbouring countries or something.\n"
   ]
  },
  {
   "cell_type": "markdown",
   "metadata": {},
   "source": []
  }
 ],
 "metadata": {
  "kernelspec": {
   "display_name": "Julia 1.11.2",
   "language": "julia",
   "name": "julia-1.11"
  },
  "language_info": {
   "file_extension": ".jl",
   "mimetype": "application/julia",
   "name": "julia",
   "version": "1.11.2"
  }
 },
 "nbformat": 4,
 "nbformat_minor": 2
}
