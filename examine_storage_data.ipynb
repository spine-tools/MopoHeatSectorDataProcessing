{
 "cells": [
  {
   "cell_type": "markdown",
   "metadata": {},
   "source": [
    "# Examining _Danish Energy Agency Technology Catalogue_ energy storage data for Mopo WP5\n",
    "\n",
    "This Jupyter Notebook aims to examine the Danish Energy Agency\n",
    "energy storage technology catalogue data in order to extract it for Mopo WP5."
   ]
  },
  {
   "cell_type": "markdown",
   "metadata": {},
   "source": [
    "## Julia Setup\n",
    "\n",
    "This script is written in Julia, and a little bit of setup is required for it to run correclty."
   ]
  },
  {
   "cell_type": "code",
   "execution_count": null,
   "metadata": {},
   "outputs": [],
   "source": [
    "## Activate (and set up) the required Julia environment\n",
    "\n",
    "using Pkg # Julia package manager.\n",
    "Pkg.activate(@__DIR__) # Activate the Julia environment in the folder this file is in (namely the `Project.toml`)\n",
    "Pkg.instantiate() # Download and install the necessary dependencies.\n",
    "\n",
    "# Load dependencies\n",
    "using XLSX\n",
    "using DataFrames"
   ]
  },
  {
   "cell_type": "markdown",
   "metadata": {},
   "source": [
    "## Read an examine the raw excel data"
   ]
  },
  {
   "cell_type": "code",
   "execution_count": null,
   "metadata": {},
   "outputs": [],
   "source": [
    "## Read the energy storage dataheets\n",
    "\n",
    "raw_data = DataFrame(\n",
    "    XLSX.readtable(\n",
    "        \"input-data\\\\dea-technology-catalogues\\\\technology_datasheet_for_energy_storage.xlsx\",\n",
    "        \"alldata_flat\"\n",
    "    )\n",
    ")\n",
    "describe(raw_data)"
   ]
  },
  {
   "cell_type": "code",
   "execution_count": null,
   "metadata": {},
   "outputs": [],
   "source": [
    "## Let's look at the parameters individually, `ws` first\n",
    "\n",
    "Set(raw_data[!, :ws])"
   ]
  },
  {
   "cell_type": "code",
   "execution_count": null,
   "metadata": {},
   "outputs": [],
   "source": [
    "Set(raw_data[!, :Technology])"
   ]
  },
  {
   "cell_type": "code",
   "execution_count": null,
   "metadata": {},
   "outputs": [],
   "source": [
    "Set(raw_data[!, :cat])"
   ]
  },
  {
   "cell_type": "code",
   "execution_count": null,
   "metadata": {},
   "outputs": [],
   "source": [
    "params = Set(raw_data[!, :par])"
   ]
  },
  {
   "cell_type": "code",
   "execution_count": null,
   "metadata": {},
   "outputs": [],
   "source": [
    "Set(raw_data[!, :unit])"
   ]
  },
  {
   "cell_type": "code",
   "execution_count": null,
   "metadata": {},
   "outputs": [],
   "source": [
    "Set(raw_data[!, :priceyear])"
   ]
  },
  {
   "cell_type": "code",
   "execution_count": null,
   "metadata": {},
   "outputs": [],
   "source": [
    "Set(raw_data[!, :est])"
   ]
  },
  {
   "cell_type": "code",
   "execution_count": null,
   "metadata": {},
   "outputs": [],
   "source": [
    "Set(raw_data[!, :year])"
   ]
  },
  {
   "cell_type": "markdown",
   "metadata": {},
   "source": [
    "So we don't have that many different technologies this time,\n",
    "but a ton of different parameters and units for said parameters.\n",
    "There doesn't seem to be any major misspellings that affect our processing,\n",
    "although the spread of different years is a bit surprising."
   ]
  },
  {
   "cell_type": "markdown",
   "metadata": {},
   "source": [
    "## Finding the desired parameters\n",
    "\n",
    "Based on the WP5 parameter excel, the parameters of interest are:\n",
    "- `CAPEX Energy`\n",
    "- `CAPEX`\n",
    "- `FOM Energy`\n",
    "- `FOM`\n",
    "- `VOM`\n",
    "- `Charge Efficiency`\n",
    "- `Discharge Efficiency`\n",
    "- `Hours`\n",
    "- `Lifetime`\n",
    "- `Currency`\n",
    "- `Metadata`\n",
    "all for the years 2030, 2040, and 2050.\n",
    "\n",
    "Not sure what the `CAPEX Energy` vs `CAPEX` division is,\n",
    "maybe storage vs charging/discharging power if these are separate investments?\n",
    "The `Hours` seems by far the most ill-defined parameter.\n",
    "According to WP5, in this case it apparently refers to the ratio of\n",
    "max energy content and max charging/discharging power."
   ]
  },
  {
   "cell_type": "code",
   "execution_count": null,
   "metadata": {},
   "outputs": [],
   "source": [
    "## Check investment parameters for CAPEX\n",
    "\n",
    "filter(x -> occursin(\"invest\", lowercase(x)), params)\n",
    "\n",
    "# \"Specific investment\" mostly seems like what we need."
   ]
  },
  {
   "cell_type": "code",
   "execution_count": null,
   "metadata": {},
   "outputs": [],
   "source": [
    "## Investment parameters \n",
    "\n",
    "filter(x -> occursin(\"component\", lowercase(x)), params)\n",
    "\n",
    "# Costs are occasionally broken into components it seems, these could be relevant?"
   ]
  },
  {
   "cell_type": "code",
   "execution_count": null,
   "metadata": {},
   "outputs": [],
   "source": [
    "## FOM\n",
    "\n",
    "filter(x -> occursin(\"fixed\", lowercase(x)), params)\n",
    "\n",
    "# Seems straightforward, although units vary"
   ]
  },
  {
   "cell_type": "code",
   "execution_count": null,
   "metadata": {},
   "outputs": [],
   "source": [
    "## Capacity per tank?\n",
    "\n",
    "filter(x -> occursin(\"unit\", lowercase(x)), params)"
   ]
  },
  {
   "cell_type": "code",
   "execution_count": null,
   "metadata": {},
   "outputs": [],
   "source": [
    "## VOM\n",
    "\n",
    "filter(x -> occursin(\"variable\", lowercase(x)), params)\n",
    "\n",
    "# Seems straightforward"
   ]
  },
  {
   "cell_type": "code",
   "execution_count": null,
   "metadata": {},
   "outputs": [],
   "source": [
    "## Other O&M costs?\n",
    "\n",
    "filter(x -> occursin(\"other o&m\", lowercase(x)), params)"
   ]
  },
  {
   "cell_type": "code",
   "execution_count": null,
   "metadata": {},
   "outputs": [],
   "source": [
    "## Efficiencies\n",
    "\n",
    "filter(x -> occursin(\"efficiency\", lowercase(x)), params)\n",
    "\n",
    "# Should get us there"
   ]
  },
  {
   "cell_type": "code",
   "execution_count": null,
   "metadata": {},
   "outputs": [],
   "source": [
    "## Hours of energy provided\n",
    "\n",
    "filter(x -> occursin(\"capacity\", lowercase(x)), params)\n",
    "\n",
    "# Ratio between output capacity and energy storage capacity for one unit."
   ]
  },
  {
   "cell_type": "code",
   "execution_count": null,
   "metadata": {},
   "outputs": [],
   "source": [
    "## Lifetime\n",
    "\n",
    "filter(x -> occursin(\"lifetime\", lowercase(x)), params)\n",
    "\n",
    "# Seems like an easy `Technical lifetime [years]`"
   ]
  },
  {
   "cell_type": "code",
   "execution_count": null,
   "metadata": {},
   "outputs": [],
   "source": [
    "## Losses\n",
    "\n",
    "filter(x -> occursin(\"loss\", lowercase(x)), params)\n",
    "\n",
    "# These could be used in conjunction with the efficiency params to estimate storage hours?"
   ]
  },
  {
   "cell_type": "code",
   "execution_count": null,
   "metadata": {},
   "outputs": [],
   "source": [
    "## Temperatures?\n",
    "\n",
    "filter(x -> occursin(\"temperature\", lowercase(x)), params)"
   ]
  },
  {
   "cell_type": "markdown",
   "metadata": {},
   "source": [
    "## Conclusions\n",
    "\n",
    "Again, the _DEA Technology Catalogue_ data on energy storage seems comprehensive\n",
    "enough for our purposes.\n",
    "However, I'll need to check with WP5 to figure out the exact parameters that they want.\n",
    "Regardless, here's a quick compilation on what the parameters will likely look like:\n",
    "- `CAPEX Energy`: Likely some `Specific investment` or its `- energy component`, but the exact units will depend on the use case.\n",
    "- `CAPEX`: Likely `Specific investment` or its `- capacity component` similar to above.\n",
    "- `FOM Energy`: Likely `Fixed O&M [EUR/MWhCapacity/year]`, beware of `Fixed O&M [EUR/MWhCapacity/year)` misspelling!\n",
    "- `FOM`: Likely `Fixed O&M [EUR/MW/year]` or similar.\n",
    "- `VOM`: Easy `Variable O&M [EUR/MWh]`.\n",
    "- `Charge Efficiency`: Charging/discharging efficiencies seem to be given as components of `Round trip efficiency`, e.g. `- Charge Efficiency [%]`. I can only hope they are available separately everywhere.\n",
    "- `Discharge Efficiency`: Similar to above, but `- Discharge efficiency [%]`.\n",
    "- `Hours of Energy`: Ratio of energy content to charge/discharge power.\n",
    "- `Lifetime`: Easy `Technical lifetime [years]`.\n",
    "- `Currency`: EUR 2020, the `priceyear` column contains this information.\n",
    "- `Metadata`: Add citation to the DEA catalogue in question."
   ]
  },
  {
   "cell_type": "code",
   "execution_count": null,
   "metadata": {},
   "outputs": [],
   "source": []
  }
 ],
 "metadata": {
  "kernelspec": {
   "display_name": "Julia 1.11.2",
   "language": "julia",
   "name": "julia-1.11"
  },
  "language_info": {
   "file_extension": ".jl",
   "mimetype": "application/julia",
   "name": "julia",
   "version": "1.11.2"
  }
 },
 "nbformat": 4,
 "nbformat_minor": 2
}
