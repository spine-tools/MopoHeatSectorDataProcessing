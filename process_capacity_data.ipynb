{
 "cells": [
  {
   "cell_type": "markdown",
   "id": "60d7e88f",
   "metadata": {},
   "source": [
    "# Processing _ABM_, _Hotmaps_, and _JRC_ data to estimate the existing heat-only generation capacities\n",
    "\n",
    "The goal of this notebook is to calculate estimates for the necessary heat-only boiler capacities,\n",
    "both in distributed heating as well as in district heating systems.\n",
    "The processing relies on three primary data sources:\n",
    "\n",
    "1. The ABM heating demand timeseries informs us about the estimated peak demand relative to the yearly demand, used for sizing the capacity.\n",
    "2. The Hotmaps project results for the yearly heating demands per fuel, mapped into different heating technologies for the distributed heating.\n",
    "3. The JRC-IDEES yearly district-heat-only production to estimate the district heating system capacity distribution."
   ]
  },
  {
   "cell_type": "markdown",
   "id": "2d260f80",
   "metadata": {},
   "source": [
    "## Julia environment setup"
   ]
  },
  {
   "cell_type": "code",
   "execution_count": 3,
   "id": "b85ca5c9",
   "metadata": {},
   "outputs": [
    {
     "name": "stderr",
     "output_type": "stream",
     "text": [
      "\u001b[32m\u001b[1m  Activating\u001b[22m\u001b[39m project at `c:\\MopoHeatSectorDataProcessing`\n"
     ]
    }
   ],
   "source": [
    "## Julia environment setup\n",
    "\n",
    "using Pkg\n",
    "Pkg.activate(@__DIR__)\n",
    "Pkg.instantiate()\n",
    "\n",
    "using CSV\n",
    "using DataFrames\n",
    "using Dates\n",
    "using Statistics\n",
    "using Serialization"
   ]
  },
  {
   "cell_type": "markdown",
   "id": "1ee3533c",
   "metadata": {},
   "source": [
    "## Read peak-to-yearly demand ratios calculated in `demand_scaling.ipynb`"
   ]
  },
  {
   "cell_type": "code",
   "execution_count": 25,
   "id": "c8d835d3",
   "metadata": {},
   "outputs": [
    {
     "data": {
      "text/html": [
       "<div><div style = \"float: left;\"><span>4×7 DataFrame</span></div><div style = \"clear: both;\"></div></div><div class = \"data-frame\" style = \"overflow-x: scroll;\"><table class = \"data-frame\" style = \"margin-bottom: 6px;\"><thead><tr class = \"header\"><th class = \"rowNumber\" style = \"font-weight: bold; text-align: right;\">Row</th><th style = \"text-align: left;\">variable</th><th style = \"text-align: left;\">mean</th><th style = \"text-align: left;\">min</th><th style = \"text-align: left;\">median</th><th style = \"text-align: left;\">max</th><th style = \"text-align: left;\">nmissing</th><th style = \"text-align: left;\">eltype</th></tr><tr class = \"subheader headerLastRow\"><th class = \"rowNumber\" style = \"font-weight: bold; text-align: right;\"></th><th title = \"Symbol\" style = \"text-align: left;\">Symbol</th><th title = \"Union{Nothing, Float64}\" style = \"text-align: left;\">Union…</th><th title = \"Any\" style = \"text-align: left;\">Any</th><th title = \"Union{Nothing, Float64}\" style = \"text-align: left;\">Union…</th><th title = \"Any\" style = \"text-align: left;\">Any</th><th title = \"Int64\" style = \"text-align: left;\">Int64</th><th title = \"DataType\" style = \"text-align: left;\">DataType</th></tr></thead><tbody><tr><td class = \"rowNumber\" style = \"font-weight: bold; text-align: right;\">1</td><td style = \"text-align: left;\">demand</td><td style = \"font-style: italic; text-align: left;\"></td><td style = \"text-align: left;\">DHW</td><td style = \"font-style: italic; text-align: left;\"></td><td style = \"text-align: left;\">heating</td><td style = \"text-align: right;\">0</td><td style = \"text-align: left;\">String7</td></tr><tr><td class = \"rowNumber\" style = \"font-weight: bold; text-align: right;\">2</td><td style = \"text-align: left;\">unit</td><td style = \"font-style: italic; text-align: left;\"></td><td style = \"text-align: left;\">MW/GWh</td><td style = \"font-style: italic; text-align: left;\"></td><td style = \"text-align: left;\">MW/GWh</td><td style = \"text-align: right;\">0</td><td style = \"text-align: left;\">String7</td></tr><tr><td class = \"rowNumber\" style = \"font-weight: bold; text-align: right;\">3</td><td style = \"text-align: left;\">country</td><td style = \"font-style: italic; text-align: left;\"></td><td style = \"text-align: left;\">AT</td><td style = \"font-style: italic; text-align: left;\"></td><td style = \"text-align: left;\">UK</td><td style = \"text-align: right;\">0</td><td style = \"text-align: left;\">String</td></tr><tr><td class = \"rowNumber\" style = \"font-weight: bold; text-align: right;\">4</td><td style = \"text-align: left;\">peak_to_demand_ratio</td><td style = \"text-align: left;\">0.896544</td><td style = \"text-align: left;\">0.2004</td><td style = \"text-align: left;\">0.6282</td><td style = \"text-align: left;\">4.8857</td><td style = \"text-align: right;\">0</td><td style = \"text-align: left;\">Float64</td></tr></tbody></table></div>"
      ],
      "text/latex": [
       "\\begin{tabular}{r|ccccccc}\n",
       "\t& variable & mean & min & median & max & nmissing & eltype\\\\\n",
       "\t\\hline\n",
       "\t& Symbol & Union… & Any & Union… & Any & Int64 & DataType\\\\\n",
       "\t\\hline\n",
       "\t1 & demand &  & DHW &  & heating & 0 & String7 \\\\\n",
       "\t2 & unit &  & MW/GWh &  & MW/GWh & 0 & String7 \\\\\n",
       "\t3 & country &  & AT &  & UK & 0 & String \\\\\n",
       "\t4 & peak\\_to\\_demand\\_ratio & 0.896544 & 0.2004 & 0.6282 & 4.8857 & 0 & Float64 \\\\\n",
       "\\end{tabular}\n"
      ],
      "text/plain": [
       "\u001b[1m4×7 DataFrame\u001b[0m\n",
       "\u001b[1m Row \u001b[0m│\u001b[1m variable             \u001b[0m\u001b[1m mean     \u001b[0m\u001b[1m min    \u001b[0m\u001b[1m median \u001b[0m\u001b[1m max     \u001b[0m\u001b[1m nmissing \u001b[0m\u001b[1m elty\u001b[0m ⋯\n",
       "     │\u001b[90m Symbol               \u001b[0m\u001b[90m Union…   \u001b[0m\u001b[90m Any    \u001b[0m\u001b[90m Union… \u001b[0m\u001b[90m Any     \u001b[0m\u001b[90m Int64    \u001b[0m\u001b[90m Data\u001b[0m ⋯\n",
       "─────┼──────────────────────────────────────────────────────────────────────────\n",
       "   1 │ demand               \u001b[90m          \u001b[0m DHW    \u001b[90m        \u001b[0m heating         0  Stri ⋯\n",
       "   2 │ unit                 \u001b[90m          \u001b[0m MW/GWh \u001b[90m        \u001b[0m MW/GWh          0  Stri\n",
       "   3 │ country              \u001b[90m          \u001b[0m AT     \u001b[90m        \u001b[0m UK              0  Stri\n",
       "   4 │ peak_to_demand_ratio  0.896544  0.2004  0.6282  4.8857          0  Floa\n",
       "\u001b[36m                                                                1 column omitted\u001b[0m"
      ]
     },
     "metadata": {},
     "output_type": "display_data"
    }
   ],
   "source": [
    "## Read peak-to-yearly demand ratios\n",
    "\n",
    "peak_path = \"output/peak_to_yearly_demand_ratios_MW_GWh.csv\"\n",
    "peak_data = DataFrame(CSV.File(peak_path))\n",
    "rows, cols = size(peak_data)\n",
    "peak_data = stack(\n",
    "    peak_data,\n",
    "    3:cols;\n",
    "    variable_name=:country,\n",
    "    value_name=:peak_to_demand_ratio\n",
    ")\n",
    "describe(peak_data)"
   ]
  },
  {
   "cell_type": "markdown",
   "id": "2f21c1b0",
   "metadata": {},
   "source": [
    "## Read extended Hotmaps data from `demand_scaling.ipynb`"
   ]
  },
  {
   "cell_type": "code",
   "execution_count": 18,
   "id": "171c198d",
   "metadata": {},
   "outputs": [
    {
     "data": {
      "text/html": [
       "<div><div style = \"float: left;\"><span>12×7 DataFrame</span></div><div style = \"clear: both;\"></div></div><div class = \"data-frame\" style = \"overflow-x: scroll;\"><table class = \"data-frame\" style = \"margin-bottom: 6px;\"><thead><tr class = \"header\"><th class = \"rowNumber\" style = \"font-weight: bold; text-align: right;\">Row</th><th style = \"text-align: left;\">variable</th><th style = \"text-align: left;\">mean</th><th style = \"text-align: left;\">min</th><th style = \"text-align: left;\">median</th><th style = \"text-align: left;\">max</th><th style = \"text-align: left;\">nmissing</th><th style = \"text-align: left;\">eltype</th></tr><tr class = \"subheader headerLastRow\"><th class = \"rowNumber\" style = \"font-weight: bold; text-align: right;\"></th><th title = \"Symbol\" style = \"text-align: left;\">Symbol</th><th title = \"Union{Nothing, Float64}\" style = \"text-align: left;\">Union…</th><th title = \"Any\" style = \"text-align: left;\">Any</th><th title = \"Union{Nothing, Float64}\" style = \"text-align: left;\">Union…</th><th title = \"Any\" style = \"text-align: left;\">Any</th><th title = \"Int64\" style = \"text-align: left;\">Int64</th><th title = \"DataType\" style = \"text-align: left;\">DataType</th></tr></thead><tbody><tr><td class = \"rowNumber\" style = \"font-weight: bold; text-align: right;\">1</td><td style = \"text-align: left;\">Scenario</td><td style = \"font-style: italic; text-align: left;\"></td><td style = \"text-align: left;\">ambitious</td><td style = \"font-style: italic; text-align: left;\"></td><td style = \"text-align: left;\">current</td><td style = \"text-align: right;\">0</td><td style = \"text-align: left;\">String15</td></tr><tr><td class = \"rowNumber\" style = \"font-weight: bold; text-align: right;\">2</td><td style = \"text-align: left;\">Supertype</td><td style = \"font-style: italic; text-align: left;\"></td><td style = \"text-align: left;\">Nonresidential_private</td><td style = \"font-style: italic; text-align: left;\"></td><td style = \"text-align: left;\">Residential</td><td style = \"text-align: right;\">0</td><td style = \"text-align: left;\">String31</td></tr><tr><td class = \"rowNumber\" style = \"font-weight: bold; text-align: right;\">3</td><td style = \"text-align: left;\">Type</td><td style = \"font-style: italic; text-align: left;\"></td><td style = \"text-align: left;\">cooling</td><td style = \"font-style: italic; text-align: left;\"></td><td style = \"text-align: left;\">space heating</td><td style = \"text-align: right;\">0</td><td style = \"text-align: left;\">String31</td></tr><tr><td class = \"rowNumber\" style = \"font-weight: bold; text-align: right;\">4</td><td style = \"text-align: left;\">Technology</td><td style = \"font-style: italic; text-align: left;\"></td><td style = \"text-align: left;\">Coal boiler or stove</td><td style = \"font-style: italic; text-align: left;\"></td><td style = \"text-align: left;\">heat pumps</td><td style = \"text-align: right;\">0</td><td style = \"text-align: left;\">String31</td></tr><tr><td class = \"rowNumber\" style = \"font-weight: bold; text-align: right;\">5</td><td style = \"text-align: left;\">Fuel</td><td style = \"font-style: italic; text-align: left;\"></td><td style = \"text-align: left;\">District heating</td><td style = \"font-style: italic; text-align: left;\"></td><td style = \"text-align: left;\">solar thermal</td><td style = \"text-align: right;\">0</td><td style = \"text-align: left;\">String31</td></tr><tr><td class = \"rowNumber\" style = \"font-weight: bold; text-align: right;\">6</td><td style = \"text-align: left;\">scenario_year</td><td style = \"text-align: left;\">2030.22</td><td style = \"text-align: left;\">2012</td><td style = \"text-align: left;\">2030.0</td><td style = \"text-align: left;\">2050</td><td style = \"text-align: right;\">0</td><td style = \"text-align: left;\">Int64</td></tr><tr><td class = \"rowNumber\" style = \"font-weight: bold; text-align: right;\">7</td><td style = \"text-align: left;\">datetime</td><td style = \"font-style: italic; text-align: left;\"></td><td style = \"text-align: left;\">2012-01-01 00:00</td><td style = \"font-style: italic; text-align: left;\"></td><td style = \"text-align: left;\">2050-01-01 00:00</td><td style = \"text-align: right;\">0</td><td style = \"text-align: left;\">String31</td></tr><tr><td class = \"rowNumber\" style = \"font-weight: bold; text-align: right;\">8</td><td style = \"text-align: left;\">country</td><td style = \"font-style: italic; text-align: left;\"></td><td style = \"text-align: left;\">AT</td><td style = \"font-style: italic; text-align: left;\"></td><td style = \"text-align: left;\">UK</td><td style = \"text-align: right;\">0</td><td style = \"text-align: left;\">String3</td></tr><tr><td class = \"rowNumber\" style = \"font-weight: bold; text-align: right;\">9</td><td style = \"text-align: left;\">unit</td><td style = \"font-style: italic; text-align: left;\"></td><td style = \"text-align: left;\">GWh</td><td style = \"font-style: italic; text-align: left;\"></td><td style = \"text-align: left;\">GWh</td><td style = \"text-align: right;\">0</td><td style = \"text-align: left;\">String3</td></tr><tr><td class = \"rowNumber\" style = \"font-weight: bold; text-align: right;\">10</td><td style = \"text-align: left;\">scenario_value</td><td style = \"text-align: left;\">1876.6</td><td style = \"text-align: left;\">0.0</td><td style = \"text-align: left;\">98.5536</td><td style = \"text-align: left;\">2.37712e5</td><td style = \"text-align: right;\">0</td><td style = \"text-align: left;\">Float64</td></tr><tr><td class = \"rowNumber\" style = \"font-weight: bold; text-align: right;\">11</td><td style = \"text-align: left;\">category</td><td style = \"font-style: italic; text-align: left;\"></td><td style = \"text-align: left;\">nonres</td><td style = \"font-style: italic; text-align: left;\"></td><td style = \"text-align: left;\">res</td><td style = \"text-align: right;\">0</td><td style = \"text-align: left;\">String</td></tr><tr><td class = \"rowNumber\" style = \"font-weight: bold; text-align: right;\">12</td><td style = \"text-align: left;\">demand</td><td style = \"font-style: italic; text-align: left;\"></td><td style = \"text-align: left;\">DHW</td><td style = \"font-style: italic; text-align: left;\"></td><td style = \"text-align: left;\">heating</td><td style = \"text-align: right;\">0</td><td style = \"text-align: left;\">String</td></tr></tbody></table></div>"
      ],
      "text/latex": [
       "\\begin{tabular}{r|ccccccc}\n",
       "\t& variable & mean & min & median & max & nmissing & \\\\\n",
       "\t\\hline\n",
       "\t& Symbol & Union… & Any & Union… & Any & Int64 & \\\\\n",
       "\t\\hline\n",
       "\t1 & Scenario &  & ambitious &  & current & 0 & $\\dots$ \\\\\n",
       "\t2 & Supertype &  & Nonresidential\\_private &  & Residential & 0 & $\\dots$ \\\\\n",
       "\t3 & Type &  & cooling &  & space heating & 0 & $\\dots$ \\\\\n",
       "\t4 & Technology &  & Coal boiler or stove &  & heat pumps & 0 & $\\dots$ \\\\\n",
       "\t5 & Fuel &  & District heating &  & solar thermal & 0 & $\\dots$ \\\\\n",
       "\t6 & scenario\\_year & 2030.22 & 2012 & 2030.0 & 2050 & 0 & $\\dots$ \\\\\n",
       "\t7 & datetime &  & 2012-01-01 00:00 &  & 2050-01-01 00:00 & 0 & $\\dots$ \\\\\n",
       "\t8 & country &  & AT &  & UK & 0 & $\\dots$ \\\\\n",
       "\t9 & unit &  & GWh &  & GWh & 0 & $\\dots$ \\\\\n",
       "\t10 & scenario\\_value & 1876.6 & 0.0 & 98.5536 & 2.37712e5 & 0 & $\\dots$ \\\\\n",
       "\t11 & category &  & nonres &  & res & 0 & $\\dots$ \\\\\n",
       "\t12 & demand &  & DHW &  & heating & 0 & $\\dots$ \\\\\n",
       "\\end{tabular}\n"
      ],
      "text/plain": [
       "\u001b[1m12×7 DataFrame\u001b[0m\n",
       "\u001b[1m Row \u001b[0m│\u001b[1m variable       \u001b[0m\u001b[1m mean    \u001b[0m\u001b[1m min                    \u001b[0m\u001b[1m median  \u001b[0m\u001b[1m max          \u001b[0m ⋯\n",
       "     │\u001b[90m Symbol         \u001b[0m\u001b[90m Union…  \u001b[0m\u001b[90m Any                    \u001b[0m\u001b[90m Union…  \u001b[0m\u001b[90m Any          \u001b[0m ⋯\n",
       "─────┼──────────────────────────────────────────────────────────────────────────\n",
       "   1 │ Scenario       \u001b[90m         \u001b[0m ambitious              \u001b[90m         \u001b[0m current       ⋯\n",
       "   2 │ Supertype      \u001b[90m         \u001b[0m Nonresidential_private \u001b[90m         \u001b[0m Residential\n",
       "   3 │ Type           \u001b[90m         \u001b[0m cooling                \u001b[90m         \u001b[0m space heating\n",
       "   4 │ Technology     \u001b[90m         \u001b[0m Coal boiler or stove   \u001b[90m         \u001b[0m heat pumps\n",
       "   5 │ Fuel           \u001b[90m         \u001b[0m District heating       \u001b[90m         \u001b[0m solar thermal ⋯\n",
       "   6 │ scenario_year   2030.22  2012                    2030.0   2050\n",
       "   7 │ datetime       \u001b[90m         \u001b[0m 2012-01-01 00:00       \u001b[90m         \u001b[0m 2050-01-01 00\n",
       "   8 │ country        \u001b[90m         \u001b[0m AT                     \u001b[90m         \u001b[0m UK\n",
       "   9 │ unit           \u001b[90m         \u001b[0m GWh                    \u001b[90m         \u001b[0m GWh           ⋯\n",
       "  10 │ scenario_value  1876.6   0.0                     98.5536  2.37712e5\n",
       "  11 │ category       \u001b[90m         \u001b[0m nonres                 \u001b[90m         \u001b[0m res\n",
       "  12 │ demand         \u001b[90m         \u001b[0m DHW                    \u001b[90m         \u001b[0m heating\n",
       "\u001b[36m                                                               3 columns omitted\u001b[0m"
      ]
     },
     "metadata": {},
     "output_type": "display_data"
    }
   ],
   "source": [
    "## Read extended Hotmaps data\n",
    "\n",
    "hm_data = deserialize(\"hm_data.ser\")\n",
    "describe(hm_data)"
   ]
  },
  {
   "cell_type": "markdown",
   "id": "f1c1805a",
   "metadata": {},
   "source": [
    "## Examine heat pump COPs\n",
    "\n",
    "The Hotmaps data has separate values for `Electricity` and `Ambient Heat` as the `Fuel` for heat pumps. Let's see how these assumptions vary between countries and end-uses."
   ]
  },
  {
   "cell_type": "code",
   "execution_count": 19,
   "id": "4290d4ab",
   "metadata": {},
   "outputs": [
    {
     "data": {
      "text/html": [
       "<div><div style = \"float: left;\"><span>13×7 DataFrame</span></div><div style = \"clear: both;\"></div></div><div class = \"data-frame\" style = \"overflow-x: scroll;\"><table class = \"data-frame\" style = \"margin-bottom: 6px;\"><thead><tr class = \"header\"><th class = \"rowNumber\" style = \"font-weight: bold; text-align: right;\">Row</th><th style = \"text-align: left;\">variable</th><th style = \"text-align: left;\">mean</th><th style = \"text-align: left;\">min</th><th style = \"text-align: left;\">median</th><th style = \"text-align: left;\">max</th><th style = \"text-align: left;\">nmissing</th><th style = \"text-align: left;\">eltype</th></tr><tr class = \"subheader headerLastRow\"><th class = \"rowNumber\" style = \"font-weight: bold; text-align: right;\"></th><th title = \"Symbol\" style = \"text-align: left;\">Symbol</th><th title = \"Union{Nothing, Float64}\" style = \"text-align: left;\">Union…</th><th title = \"Any\" style = \"text-align: left;\">Any</th><th title = \"Union{Nothing, Float64}\" style = \"text-align: left;\">Union…</th><th title = \"Any\" style = \"text-align: left;\">Any</th><th title = \"Int64\" style = \"text-align: left;\">Int64</th><th title = \"Type\" style = \"text-align: left;\">Type</th></tr></thead><tbody><tr><td class = \"rowNumber\" style = \"font-weight: bold; text-align: right;\">1</td><td style = \"text-align: left;\">Scenario</td><td style = \"font-style: italic; text-align: left;\"></td><td style = \"text-align: left;\">ambitious</td><td style = \"font-style: italic; text-align: left;\"></td><td style = \"text-align: left;\">current</td><td style = \"text-align: right;\">0</td><td style = \"text-align: left;\">String15</td></tr><tr><td class = \"rowNumber\" style = \"font-weight: bold; text-align: right;\">2</td><td style = \"text-align: left;\">Supertype</td><td style = \"font-style: italic; text-align: left;\"></td><td style = \"text-align: left;\">Nonresidential_private</td><td style = \"font-style: italic; text-align: left;\"></td><td style = \"text-align: left;\">Residential</td><td style = \"text-align: right;\">0</td><td style = \"text-align: left;\">String31</td></tr><tr><td class = \"rowNumber\" style = \"font-weight: bold; text-align: right;\">3</td><td style = \"text-align: left;\">Type</td><td style = \"font-style: italic; text-align: left;\"></td><td style = \"text-align: left;\">hot water</td><td style = \"font-style: italic; text-align: left;\"></td><td style = \"text-align: left;\">space heating</td><td style = \"text-align: right;\">0</td><td style = \"text-align: left;\">String31</td></tr><tr><td class = \"rowNumber\" style = \"font-weight: bold; text-align: right;\">4</td><td style = \"text-align: left;\">Technology</td><td style = \"font-style: italic; text-align: left;\"></td><td style = \"text-align: left;\">heat pumps</td><td style = \"font-style: italic; text-align: left;\"></td><td style = \"text-align: left;\">heat pumps</td><td style = \"text-align: right;\">0</td><td style = \"text-align: left;\">String31</td></tr><tr><td class = \"rowNumber\" style = \"font-weight: bold; text-align: right;\">5</td><td style = \"text-align: left;\">scenario_year</td><td style = \"text-align: left;\">2030.42</td><td style = \"text-align: left;\">2012</td><td style = \"text-align: left;\">2030.0</td><td style = \"text-align: left;\">2050</td><td style = \"text-align: right;\">0</td><td style = \"text-align: left;\">Int64</td></tr><tr><td class = \"rowNumber\" style = \"font-weight: bold; text-align: right;\">6</td><td style = \"text-align: left;\">datetime</td><td style = \"font-style: italic; text-align: left;\"></td><td style = \"text-align: left;\">2012-01-01 00:00</td><td style = \"font-style: italic; text-align: left;\"></td><td style = \"text-align: left;\">2050-01-01 00:00</td><td style = \"text-align: right;\">0</td><td style = \"text-align: left;\">String31</td></tr><tr><td class = \"rowNumber\" style = \"font-weight: bold; text-align: right;\">7</td><td style = \"text-align: left;\">country</td><td style = \"font-style: italic; text-align: left;\"></td><td style = \"text-align: left;\">AT</td><td style = \"font-style: italic; text-align: left;\"></td><td style = \"text-align: left;\">UK</td><td style = \"text-align: right;\">0</td><td style = \"text-align: left;\">String3</td></tr><tr><td class = \"rowNumber\" style = \"font-weight: bold; text-align: right;\">8</td><td style = \"text-align: left;\">unit</td><td style = \"font-style: italic; text-align: left;\"></td><td style = \"text-align: left;\">GWh</td><td style = \"font-style: italic; text-align: left;\"></td><td style = \"text-align: left;\">GWh</td><td style = \"text-align: right;\">0</td><td style = \"text-align: left;\">String3</td></tr><tr><td class = \"rowNumber\" style = \"font-weight: bold; text-align: right;\">9</td><td style = \"text-align: left;\">category</td><td style = \"font-style: italic; text-align: left;\"></td><td style = \"text-align: left;\">nonres</td><td style = \"font-style: italic; text-align: left;\"></td><td style = \"text-align: left;\">res</td><td style = \"text-align: right;\">0</td><td style = \"text-align: left;\">String</td></tr><tr><td class = \"rowNumber\" style = \"font-weight: bold; text-align: right;\">10</td><td style = \"text-align: left;\">demand</td><td style = \"font-style: italic; text-align: left;\"></td><td style = \"text-align: left;\">DHW</td><td style = \"font-style: italic; text-align: left;\"></td><td style = \"text-align: left;\">heating</td><td style = \"text-align: right;\">0</td><td style = \"text-align: left;\">String</td></tr><tr><td class = \"rowNumber\" style = \"font-weight: bold; text-align: right;\">11</td><td style = \"text-align: left;\">Electricity</td><td style = \"text-align: left;\">441.207</td><td style = \"text-align: left;\">7.33e-5</td><td style = \"text-align: left;\">41.5911</td><td style = \"text-align: left;\">21560.1</td><td style = \"text-align: right;\">0</td><td style = \"text-align: left;\">Union{Missing, Float64}</td></tr><tr><td class = \"rowNumber\" style = \"font-weight: bold; text-align: right;\">12</td><td style = \"text-align: left;\">ambient heat</td><td style = \"text-align: left;\">834.641</td><td style = \"text-align: left;\">0.00186499</td><td style = \"text-align: left;\">104.559</td><td style = \"text-align: left;\">42196.0</td><td style = \"text-align: right;\">0</td><td style = \"text-align: left;\">Union{Missing, Float64}</td></tr><tr><td class = \"rowNumber\" style = \"font-weight: bold; text-align: right;\">13</td><td style = \"text-align: left;\">COP</td><td style = \"text-align: left;\">6.55625</td><td style = \"text-align: left;\">1.68747</td><td style = \"text-align: left;\">3.06752</td><td style = \"text-align: left;\">1138.2</td><td style = \"text-align: right;\">0</td><td style = \"text-align: left;\">Float64</td></tr></tbody></table></div>"
      ],
      "text/latex": [
       "\\begin{tabular}{r|ccccccc}\n",
       "\t& variable & mean & min & median & max & nmissing & \\\\\n",
       "\t\\hline\n",
       "\t& Symbol & Union… & Any & Union… & Any & Int64 & \\\\\n",
       "\t\\hline\n",
       "\t1 & Scenario &  & ambitious &  & current & 0 & $\\dots$ \\\\\n",
       "\t2 & Supertype &  & Nonresidential\\_private &  & Residential & 0 & $\\dots$ \\\\\n",
       "\t3 & Type &  & hot water &  & space heating & 0 & $\\dots$ \\\\\n",
       "\t4 & Technology &  & heat pumps &  & heat pumps & 0 & $\\dots$ \\\\\n",
       "\t5 & scenario\\_year & 2030.42 & 2012 & 2030.0 & 2050 & 0 & $\\dots$ \\\\\n",
       "\t6 & datetime &  & 2012-01-01 00:00 &  & 2050-01-01 00:00 & 0 & $\\dots$ \\\\\n",
       "\t7 & country &  & AT &  & UK & 0 & $\\dots$ \\\\\n",
       "\t8 & unit &  & GWh &  & GWh & 0 & $\\dots$ \\\\\n",
       "\t9 & category &  & nonres &  & res & 0 & $\\dots$ \\\\\n",
       "\t10 & demand &  & DHW &  & heating & 0 & $\\dots$ \\\\\n",
       "\t11 & Electricity & 441.207 & 7.33e-5 & 41.5911 & 21560.1 & 0 & $\\dots$ \\\\\n",
       "\t12 & ambient heat & 834.641 & 0.00186499 & 104.559 & 42196.0 & 0 & $\\dots$ \\\\\n",
       "\t13 & COP & 6.55625 & 1.68747 & 3.06752 & 1138.2 & 0 & $\\dots$ \\\\\n",
       "\\end{tabular}\n"
      ],
      "text/plain": [
       "\u001b[1m13×7 DataFrame\u001b[0m\n",
       "\u001b[1m Row \u001b[0m│\u001b[1m variable      \u001b[0m\u001b[1m mean    \u001b[0m\u001b[1m min                    \u001b[0m\u001b[1m median  \u001b[0m\u001b[1m max           \u001b[0m ⋯\n",
       "     │\u001b[90m Symbol        \u001b[0m\u001b[90m Union…  \u001b[0m\u001b[90m Any                    \u001b[0m\u001b[90m Union…  \u001b[0m\u001b[90m Any           \u001b[0m ⋯\n",
       "─────┼──────────────────────────────────────────────────────────────────────────\n",
       "   1 │ Scenario      \u001b[90m         \u001b[0m ambitious              \u001b[90m         \u001b[0m current        ⋯\n",
       "   2 │ Supertype     \u001b[90m         \u001b[0m Nonresidential_private \u001b[90m         \u001b[0m Residential\n",
       "   3 │ Type          \u001b[90m         \u001b[0m hot water              \u001b[90m         \u001b[0m space heating\n",
       "   4 │ Technology    \u001b[90m         \u001b[0m heat pumps             \u001b[90m         \u001b[0m heat pumps\n",
       "   5 │ scenario_year  2030.42  2012                    2030.0   2050           ⋯\n",
       "   6 │ datetime      \u001b[90m         \u001b[0m 2012-01-01 00:00       \u001b[90m         \u001b[0m 2050-01-01 00:\n",
       "   7 │ country       \u001b[90m         \u001b[0m AT                     \u001b[90m         \u001b[0m UK\n",
       "   8 │ unit          \u001b[90m         \u001b[0m GWh                    \u001b[90m         \u001b[0m GWh\n",
       "   9 │ category      \u001b[90m         \u001b[0m nonres                 \u001b[90m         \u001b[0m res            ⋯\n",
       "  10 │ demand        \u001b[90m         \u001b[0m DHW                    \u001b[90m         \u001b[0m heating\n",
       "  11 │ Electricity    441.207  7.33e-5                 41.5911  21560.1\n",
       "  12 │ ambient heat   834.641  0.00186499              104.559  42196.0\n",
       "  13 │ COP            6.55625  1.68747                 3.06752  1138.2         ⋯\n",
       "\u001b[36m                                                               3 columns omitted\u001b[0m"
      ]
     },
     "metadata": {},
     "output_type": "display_data"
    }
   ],
   "source": [
    "## Examine the heat pump COPs based on their electricity and ambient heat consumption\n",
    "\n",
    "df = hm_data[hm_data.Technology .== \"heat pumps\", :]\n",
    "df = unstack(df, :Fuel, :scenario_value)\n",
    "df = df[df.Electricity .> 0, :]\n",
    "df.COP .= (df.Electricity + df[!, Symbol(\"ambient heat\")]) ./ df.Electricity\n",
    "#sort!(df, :COP; rev=true)\n",
    "describe(df)"
   ]
  },
  {
   "cell_type": "markdown",
   "id": "e3acc9f6",
   "metadata": {},
   "source": [
    "Well that's a bit alarming: The mean COP in the Hotmaps data is above six, which seems pretty unrealistic. Furthermore, the maximum COP is infeasibly high, and weirdly seems to occur mostly for DHW.\n",
    "\n",
    "Therefore, there's a risk that the modelled heat pump capacity is not enough to cover the demand in certain countries if I use the `Electricity` fuel as the basis for the assumed existing capacity."
   ]
  },
  {
   "cell_type": "code",
   "execution_count": 20,
   "id": "abebbe5a",
   "metadata": {},
   "outputs": [
    {
     "data": {
      "text/html": [
       "<div><div style = \"float: left;\"><span>13×7 DataFrame</span></div><div style = \"clear: both;\"></div></div><div class = \"data-frame\" style = \"overflow-x: scroll;\"><table class = \"data-frame\" style = \"margin-bottom: 6px;\"><thead><tr class = \"header\"><th class = \"rowNumber\" style = \"font-weight: bold; text-align: right;\">Row</th><th style = \"text-align: left;\">variable</th><th style = \"text-align: left;\">mean</th><th style = \"text-align: left;\">min</th><th style = \"text-align: left;\">median</th><th style = \"text-align: left;\">max</th><th style = \"text-align: left;\">nmissing</th><th style = \"text-align: left;\">eltype</th></tr><tr class = \"subheader headerLastRow\"><th class = \"rowNumber\" style = \"font-weight: bold; text-align: right;\"></th><th title = \"Symbol\" style = \"text-align: left;\">Symbol</th><th title = \"Union{Nothing, Float64}\" style = \"text-align: left;\">Union…</th><th title = \"Any\" style = \"text-align: left;\">Any</th><th title = \"Union{Nothing, Float64}\" style = \"text-align: left;\">Union…</th><th title = \"Any\" style = \"text-align: left;\">Any</th><th title = \"Int64\" style = \"text-align: left;\">Int64</th><th title = \"Type\" style = \"text-align: left;\">Type</th></tr></thead><tbody><tr><td class = \"rowNumber\" style = \"font-weight: bold; text-align: right;\">1</td><td style = \"text-align: left;\">Scenario</td><td style = \"font-style: italic; text-align: left;\"></td><td style = \"text-align: left;\">ambitious</td><td style = \"font-style: italic; text-align: left;\"></td><td style = \"text-align: left;\">current</td><td style = \"text-align: right;\">0</td><td style = \"text-align: left;\">String15</td></tr><tr><td class = \"rowNumber\" style = \"font-weight: bold; text-align: right;\">2</td><td style = \"text-align: left;\">Supertype</td><td style = \"font-style: italic; text-align: left;\"></td><td style = \"text-align: left;\">Nonresidential_private</td><td style = \"font-style: italic; text-align: left;\"></td><td style = \"text-align: left;\">Residential</td><td style = \"text-align: right;\">0</td><td style = \"text-align: left;\">String31</td></tr><tr><td class = \"rowNumber\" style = \"font-weight: bold; text-align: right;\">3</td><td style = \"text-align: left;\">Type</td><td style = \"font-style: italic; text-align: left;\"></td><td style = \"text-align: left;\">hot water</td><td style = \"font-style: italic; text-align: left;\"></td><td style = \"text-align: left;\">space heating</td><td style = \"text-align: right;\">0</td><td style = \"text-align: left;\">String31</td></tr><tr><td class = \"rowNumber\" style = \"font-weight: bold; text-align: right;\">4</td><td style = \"text-align: left;\">Technology</td><td style = \"font-style: italic; text-align: left;\"></td><td style = \"text-align: left;\">heat pumps</td><td style = \"font-style: italic; text-align: left;\"></td><td style = \"text-align: left;\">heat pumps</td><td style = \"text-align: right;\">0</td><td style = \"text-align: left;\">String31</td></tr><tr><td class = \"rowNumber\" style = \"font-weight: bold; text-align: right;\">5</td><td style = \"text-align: left;\">scenario_year</td><td style = \"text-align: left;\">2030.42</td><td style = \"text-align: left;\">2012</td><td style = \"text-align: left;\">2030.0</td><td style = \"text-align: left;\">2050</td><td style = \"text-align: right;\">0</td><td style = \"text-align: left;\">Int64</td></tr><tr><td class = \"rowNumber\" style = \"font-weight: bold; text-align: right;\">6</td><td style = \"text-align: left;\">datetime</td><td style = \"font-style: italic; text-align: left;\"></td><td style = \"text-align: left;\">2012-01-01 00:00</td><td style = \"font-style: italic; text-align: left;\"></td><td style = \"text-align: left;\">2050-01-01 00:00</td><td style = \"text-align: right;\">0</td><td style = \"text-align: left;\">String31</td></tr><tr><td class = \"rowNumber\" style = \"font-weight: bold; text-align: right;\">7</td><td style = \"text-align: left;\">country</td><td style = \"font-style: italic; text-align: left;\"></td><td style = \"text-align: left;\">AT</td><td style = \"font-style: italic; text-align: left;\"></td><td style = \"text-align: left;\">UK</td><td style = \"text-align: right;\">0</td><td style = \"text-align: left;\">String3</td></tr><tr><td class = \"rowNumber\" style = \"font-weight: bold; text-align: right;\">8</td><td style = \"text-align: left;\">unit</td><td style = \"font-style: italic; text-align: left;\"></td><td style = \"text-align: left;\">GWh</td><td style = \"font-style: italic; text-align: left;\"></td><td style = \"text-align: left;\">GWh</td><td style = \"text-align: right;\">0</td><td style = \"text-align: left;\">String3</td></tr><tr><td class = \"rowNumber\" style = \"font-weight: bold; text-align: right;\">9</td><td style = \"text-align: left;\">category</td><td style = \"font-style: italic; text-align: left;\"></td><td style = \"text-align: left;\">nonres</td><td style = \"font-style: italic; text-align: left;\"></td><td style = \"text-align: left;\">res</td><td style = \"text-align: right;\">0</td><td style = \"text-align: left;\">String</td></tr><tr><td class = \"rowNumber\" style = \"font-weight: bold; text-align: right;\">10</td><td style = \"text-align: left;\">Electricity</td><td style = \"text-align: left;\">441.207</td><td style = \"text-align: left;\">7.33e-5</td><td style = \"text-align: left;\">41.5911</td><td style = \"text-align: left;\">21560.1</td><td style = \"text-align: right;\">0</td><td style = \"text-align: left;\">Union{Missing, Float64}</td></tr><tr><td class = \"rowNumber\" style = \"font-weight: bold; text-align: right;\">11</td><td style = \"text-align: left;\">ambient heat</td><td style = \"text-align: left;\">834.641</td><td style = \"text-align: left;\">0.00186499</td><td style = \"text-align: left;\">104.559</td><td style = \"text-align: left;\">42196.0</td><td style = \"text-align: right;\">0</td><td style = \"text-align: left;\">Union{Missing, Float64}</td></tr><tr><td class = \"rowNumber\" style = \"font-weight: bold; text-align: right;\">12</td><td style = \"text-align: left;\">heating</td><td style = \"text-align: left;\">3.28938</td><td style = \"text-align: left;\">1.68747</td><td style = \"text-align: left;\">2.95768</td><td style = \"text-align: left;\">21.6752</td><td style = \"text-align: right;\">1562</td><td style = \"text-align: left;\">Union{Missing, Float64}</td></tr><tr><td class = \"rowNumber\" style = \"font-weight: bold; text-align: right;\">13</td><td style = \"text-align: left;\">DHW</td><td style = \"text-align: left;\">9.82313</td><td style = \"text-align: left;\">2.27463</td><td style = \"text-align: left;\">3.18475</td><td style = \"text-align: left;\">1138.2</td><td style = \"text-align: right;\">1562</td><td style = \"text-align: left;\">Union{Missing, Float64}</td></tr></tbody></table></div>"
      ],
      "text/latex": [
       "\\begin{tabular}{r|ccccccc}\n",
       "\t& variable & mean & min & median & max & nmissing & \\\\\n",
       "\t\\hline\n",
       "\t& Symbol & Union… & Any & Union… & Any & Int64 & \\\\\n",
       "\t\\hline\n",
       "\t1 & Scenario &  & ambitious &  & current & 0 & $\\dots$ \\\\\n",
       "\t2 & Supertype &  & Nonresidential\\_private &  & Residential & 0 & $\\dots$ \\\\\n",
       "\t3 & Type &  & hot water &  & space heating & 0 & $\\dots$ \\\\\n",
       "\t4 & Technology &  & heat pumps &  & heat pumps & 0 & $\\dots$ \\\\\n",
       "\t5 & scenario\\_year & 2030.42 & 2012 & 2030.0 & 2050 & 0 & $\\dots$ \\\\\n",
       "\t6 & datetime &  & 2012-01-01 00:00 &  & 2050-01-01 00:00 & 0 & $\\dots$ \\\\\n",
       "\t7 & country &  & AT &  & UK & 0 & $\\dots$ \\\\\n",
       "\t8 & unit &  & GWh &  & GWh & 0 & $\\dots$ \\\\\n",
       "\t9 & category &  & nonres &  & res & 0 & $\\dots$ \\\\\n",
       "\t10 & Electricity & 441.207 & 7.33e-5 & 41.5911 & 21560.1 & 0 & $\\dots$ \\\\\n",
       "\t11 & ambient heat & 834.641 & 0.00186499 & 104.559 & 42196.0 & 0 & $\\dots$ \\\\\n",
       "\t12 & heating & 3.28938 & 1.68747 & 2.95768 & 21.6752 & 1562 & $\\dots$ \\\\\n",
       "\t13 & DHW & 9.82313 & 2.27463 & 3.18475 & 1138.2 & 1562 & $\\dots$ \\\\\n",
       "\\end{tabular}\n"
      ],
      "text/plain": [
       "\u001b[1m13×7 DataFrame\u001b[0m\n",
       "\u001b[1m Row \u001b[0m│\u001b[1m variable      \u001b[0m\u001b[1m mean    \u001b[0m\u001b[1m min                    \u001b[0m\u001b[1m median  \u001b[0m\u001b[1m max           \u001b[0m ⋯\n",
       "     │\u001b[90m Symbol        \u001b[0m\u001b[90m Union…  \u001b[0m\u001b[90m Any                    \u001b[0m\u001b[90m Union…  \u001b[0m\u001b[90m Any           \u001b[0m ⋯\n",
       "─────┼──────────────────────────────────────────────────────────────────────────\n",
       "   1 │ Scenario      \u001b[90m         \u001b[0m ambitious              \u001b[90m         \u001b[0m current        ⋯\n",
       "   2 │ Supertype     \u001b[90m         \u001b[0m Nonresidential_private \u001b[90m         \u001b[0m Residential\n",
       "   3 │ Type          \u001b[90m         \u001b[0m hot water              \u001b[90m         \u001b[0m space heating\n",
       "   4 │ Technology    \u001b[90m         \u001b[0m heat pumps             \u001b[90m         \u001b[0m heat pumps\n",
       "   5 │ scenario_year  2030.42  2012                    2030.0   2050           ⋯\n",
       "   6 │ datetime      \u001b[90m         \u001b[0m 2012-01-01 00:00       \u001b[90m         \u001b[0m 2050-01-01 00:\n",
       "   7 │ country       \u001b[90m         \u001b[0m AT                     \u001b[90m         \u001b[0m UK\n",
       "   8 │ unit          \u001b[90m         \u001b[0m GWh                    \u001b[90m         \u001b[0m GWh\n",
       "   9 │ category      \u001b[90m         \u001b[0m nonres                 \u001b[90m         \u001b[0m res            ⋯\n",
       "  10 │ Electricity    441.207  7.33e-5                 41.5911  21560.1\n",
       "  11 │ ambient heat   834.641  0.00186499              104.559  42196.0\n",
       "  12 │ heating        3.28938  1.68747                 2.95768  21.6752\n",
       "  13 │ DHW            9.82313  2.27463                 3.18475  1138.2         ⋯\n",
       "\u001b[36m                                                               3 columns omitted\u001b[0m"
      ]
     },
     "metadata": {},
     "output_type": "display_data"
    }
   ],
   "source": [
    "# Let's check space heating and DHW separately:\n",
    "\n",
    "df_cop_demand = unstack(df, :demand, :COP)\n",
    "describe(df_cop_demand)"
   ]
  },
  {
   "cell_type": "markdown",
   "id": "e8b2507c",
   "metadata": {},
   "source": [
    "Surprisingly, the space heating COPs are lower than DHW COPs, which shouldn't be the case. Not really sure what's going on here with the Hotmaps data. Ultimately, it might be necessary to estimate the existing heat pump capacity based on the total and the assumed technology parameter COP, but we'll see."
   ]
  },
  {
   "cell_type": "markdown",
   "id": "a57ef345",
   "metadata": {},
   "source": [
    "## Estimate generation capacities based on Hotmaps\n",
    "\n",
    "We'll have to estimate the technology capacities based on the yearly demands and the estimated demand peak ratio."
   ]
  },
  {
   "cell_type": "code",
   "execution_count": 30,
   "id": "8b6d047b",
   "metadata": {},
   "outputs": [
    {
     "data": {
      "text/html": [
       "<div><div style = \"float: left;\"><span>15×7 DataFrame</span></div><div style = \"clear: both;\"></div></div><div class = \"data-frame\" style = \"overflow-x: scroll;\"><table class = \"data-frame\" style = \"margin-bottom: 6px;\"><thead><tr class = \"header\"><th class = \"rowNumber\" style = \"font-weight: bold; text-align: right;\">Row</th><th style = \"text-align: left;\">variable</th><th style = \"text-align: left;\">mean</th><th style = \"text-align: left;\">min</th><th style = \"text-align: left;\">median</th><th style = \"text-align: left;\">max</th><th style = \"text-align: left;\">nmissing</th><th style = \"text-align: left;\">eltype</th></tr><tr class = \"subheader headerLastRow\"><th class = \"rowNumber\" style = \"font-weight: bold; text-align: right;\"></th><th title = \"Symbol\" style = \"text-align: left;\">Symbol</th><th title = \"Union{Nothing, Float64}\" style = \"text-align: left;\">Union…</th><th title = \"Any\" style = \"text-align: left;\">Any</th><th title = \"Union{Nothing, Float64}\" style = \"text-align: left;\">Union…</th><th title = \"Any\" style = \"text-align: left;\">Any</th><th title = \"Int64\" style = \"text-align: left;\">Int64</th><th title = \"Type\" style = \"text-align: left;\">Type</th></tr></thead><tbody><tr><td class = \"rowNumber\" style = \"font-weight: bold; text-align: right;\">1</td><td style = \"text-align: left;\">Scenario</td><td style = \"font-style: italic; text-align: left;\"></td><td style = \"text-align: left;\">ambitious</td><td style = \"font-style: italic; text-align: left;\"></td><td style = \"text-align: left;\">current</td><td style = \"text-align: right;\">0</td><td style = \"text-align: left;\">String15</td></tr><tr><td class = \"rowNumber\" style = \"font-weight: bold; text-align: right;\">2</td><td style = \"text-align: left;\">Supertype</td><td style = \"font-style: italic; text-align: left;\"></td><td style = \"text-align: left;\">Nonresidential_private</td><td style = \"font-style: italic; text-align: left;\"></td><td style = \"text-align: left;\">Residential</td><td style = \"text-align: right;\">0</td><td style = \"text-align: left;\">String31</td></tr><tr><td class = \"rowNumber\" style = \"font-weight: bold; text-align: right;\">3</td><td style = \"text-align: left;\">Type</td><td style = \"font-style: italic; text-align: left;\"></td><td style = \"text-align: left;\">cooling</td><td style = \"font-style: italic; text-align: left;\"></td><td style = \"text-align: left;\">space heating</td><td style = \"text-align: right;\">0</td><td style = \"text-align: left;\">String31</td></tr><tr><td class = \"rowNumber\" style = \"font-weight: bold; text-align: right;\">4</td><td style = \"text-align: left;\">Technology</td><td style = \"font-style: italic; text-align: left;\"></td><td style = \"text-align: left;\">Coal boiler or stove</td><td style = \"font-style: italic; text-align: left;\"></td><td style = \"text-align: left;\">heat pumps</td><td style = \"text-align: right;\">0</td><td style = \"text-align: left;\">String31</td></tr><tr><td class = \"rowNumber\" style = \"font-weight: bold; text-align: right;\">5</td><td style = \"text-align: left;\">Fuel</td><td style = \"font-style: italic; text-align: left;\"></td><td style = \"text-align: left;\">District heating</td><td style = \"font-style: italic; text-align: left;\"></td><td style = \"text-align: left;\">solar thermal</td><td style = \"text-align: right;\">0</td><td style = \"text-align: left;\">String31</td></tr><tr><td class = \"rowNumber\" style = \"font-weight: bold; text-align: right;\">6</td><td style = \"text-align: left;\">scenario_year</td><td style = \"text-align: left;\">2030.22</td><td style = \"text-align: left;\">2012</td><td style = \"text-align: left;\">2030.0</td><td style = \"text-align: left;\">2050</td><td style = \"text-align: right;\">0</td><td style = \"text-align: left;\">Int64</td></tr><tr><td class = \"rowNumber\" style = \"font-weight: bold; text-align: right;\">7</td><td style = \"text-align: left;\">datetime</td><td style = \"font-style: italic; text-align: left;\"></td><td style = \"text-align: left;\">2012-01-01 00:00</td><td style = \"font-style: italic; text-align: left;\"></td><td style = \"text-align: left;\">2050-01-01 00:00</td><td style = \"text-align: right;\">0</td><td style = \"text-align: left;\">String31</td></tr><tr><td class = \"rowNumber\" style = \"font-weight: bold; text-align: right;\">8</td><td style = \"text-align: left;\">country</td><td style = \"font-style: italic; text-align: left;\"></td><td style = \"text-align: left;\">AT</td><td style = \"font-style: italic; text-align: left;\"></td><td style = \"text-align: left;\">UK</td><td style = \"text-align: right;\">0</td><td style = \"text-align: left;\">String3</td></tr><tr><td class = \"rowNumber\" style = \"font-weight: bold; text-align: right;\">9</td><td style = \"text-align: left;\">unit</td><td style = \"font-style: italic; text-align: left;\"></td><td style = \"text-align: left;\">GWh</td><td style = \"font-style: italic; text-align: left;\"></td><td style = \"text-align: left;\">GWh</td><td style = \"text-align: right;\">0</td><td style = \"text-align: left;\">String3</td></tr><tr><td class = \"rowNumber\" style = \"font-weight: bold; text-align: right;\">10</td><td style = \"text-align: left;\">scenario_value</td><td style = \"text-align: left;\">1876.6</td><td style = \"text-align: left;\">0.0</td><td style = \"text-align: left;\">98.5536</td><td style = \"text-align: left;\">2.37712e5</td><td style = \"text-align: right;\">0</td><td style = \"text-align: left;\">Float64</td></tr><tr><td class = \"rowNumber\" style = \"font-weight: bold; text-align: right;\">11</td><td style = \"text-align: left;\">category</td><td style = \"font-style: italic; text-align: left;\"></td><td style = \"text-align: left;\">nonres</td><td style = \"font-style: italic; text-align: left;\"></td><td style = \"text-align: left;\">res</td><td style = \"text-align: right;\">0</td><td style = \"text-align: left;\">String</td></tr><tr><td class = \"rowNumber\" style = \"font-weight: bold; text-align: right;\">12</td><td style = \"text-align: left;\">demand</td><td style = \"font-style: italic; text-align: left;\"></td><td style = \"text-align: left;\">DHW</td><td style = \"font-style: italic; text-align: left;\"></td><td style = \"text-align: left;\">heating</td><td style = \"text-align: right;\">0</td><td style = \"text-align: left;\">String</td></tr><tr><td class = \"rowNumber\" style = \"font-weight: bold; text-align: right;\">13</td><td style = \"text-align: left;\">unit_ratio</td><td style = \"font-style: italic; text-align: left;\"></td><td style = \"text-align: left;\">MW/GWh</td><td style = \"font-style: italic; text-align: left;\"></td><td style = \"text-align: left;\">MW/GWh</td><td style = \"text-align: right;\">0</td><td style = \"text-align: left;\">Union{Missing, String7}</td></tr><tr><td class = \"rowNumber\" style = \"font-weight: bold; text-align: right;\">14</td><td style = \"text-align: left;\">peak_to_demand_ratio</td><td style = \"text-align: left;\">0.592118</td><td style = \"text-align: left;\">0.2004</td><td style = \"text-align: left;\">0.4672</td><td style = \"text-align: left;\">4.8857</td><td style = \"text-align: right;\">0</td><td style = \"text-align: left;\">Union{Missing, Float64}</td></tr><tr><td class = \"rowNumber\" style = \"font-weight: bold; text-align: right;\">15</td><td style = \"text-align: left;\">capacity_MW</td><td style = \"text-align: left;\">1175.76</td><td style = \"text-align: left;\">0.0</td><td style = \"text-align: left;\">39.0837</td><td style = \"text-align: left;\">1.49141e5</td><td style = \"text-align: right;\">0</td><td style = \"text-align: left;\">Float64</td></tr></tbody></table></div>"
      ],
      "text/latex": [
       "\\begin{tabular}{r|cccccc}\n",
       "\t& variable & mean & min & median & max & \\\\\n",
       "\t\\hline\n",
       "\t& Symbol & Union… & Any & Union… & Any & \\\\\n",
       "\t\\hline\n",
       "\t1 & Scenario &  & ambitious &  & current & $\\dots$ \\\\\n",
       "\t2 & Supertype &  & Nonresidential\\_private &  & Residential & $\\dots$ \\\\\n",
       "\t3 & Type &  & cooling &  & space heating & $\\dots$ \\\\\n",
       "\t4 & Technology &  & Coal boiler or stove &  & heat pumps & $\\dots$ \\\\\n",
       "\t5 & Fuel &  & District heating &  & solar thermal & $\\dots$ \\\\\n",
       "\t6 & scenario\\_year & 2030.22 & 2012 & 2030.0 & 2050 & $\\dots$ \\\\\n",
       "\t7 & datetime &  & 2012-01-01 00:00 &  & 2050-01-01 00:00 & $\\dots$ \\\\\n",
       "\t8 & country &  & AT &  & UK & $\\dots$ \\\\\n",
       "\t9 & unit &  & GWh &  & GWh & $\\dots$ \\\\\n",
       "\t10 & scenario\\_value & 1876.6 & 0.0 & 98.5536 & 2.37712e5 & $\\dots$ \\\\\n",
       "\t11 & category &  & nonres &  & res & $\\dots$ \\\\\n",
       "\t12 & demand &  & DHW &  & heating & $\\dots$ \\\\\n",
       "\t13 & unit\\_ratio &  & MW/GWh &  & MW/GWh & $\\dots$ \\\\\n",
       "\t14 & peak\\_to\\_demand\\_ratio & 0.592118 & 0.2004 & 0.4672 & 4.8857 & $\\dots$ \\\\\n",
       "\t15 & capacity\\_MW & 1175.76 & 0.0 & 39.0837 & 1.49141e5 & $\\dots$ \\\\\n",
       "\\end{tabular}\n"
      ],
      "text/plain": [
       "\u001b[1m15×7 DataFrame\u001b[0m\n",
       "\u001b[1m Row \u001b[0m│\u001b[1m variable             \u001b[0m\u001b[1m mean     \u001b[0m\u001b[1m min                    \u001b[0m\u001b[1m median  \u001b[0m\u001b[1m max   \u001b[0m ⋯\n",
       "     │\u001b[90m Symbol               \u001b[0m\u001b[90m Union…   \u001b[0m\u001b[90m Any                    \u001b[0m\u001b[90m Union…  \u001b[0m\u001b[90m Any   \u001b[0m ⋯\n",
       "─────┼──────────────────────────────────────────────────────────────────────────\n",
       "   1 │ Scenario             \u001b[90m          \u001b[0m ambitious              \u001b[90m         \u001b[0m curren ⋯\n",
       "   2 │ Supertype            \u001b[90m          \u001b[0m Nonresidential_private \u001b[90m         \u001b[0m Reside\n",
       "   3 │ Type                 \u001b[90m          \u001b[0m cooling                \u001b[90m         \u001b[0m space\n",
       "   4 │ Technology           \u001b[90m          \u001b[0m Coal boiler or stove   \u001b[90m         \u001b[0m heat p\n",
       "   5 │ Fuel                 \u001b[90m          \u001b[0m District heating       \u001b[90m         \u001b[0m solar  ⋯\n",
       "   6 │ scenario_year         2030.22   2012                    2030.0   2050\n",
       "   7 │ datetime             \u001b[90m          \u001b[0m 2012-01-01 00:00       \u001b[90m         \u001b[0m 2050-0\n",
       "   8 │ country              \u001b[90m          \u001b[0m AT                     \u001b[90m         \u001b[0m UK\n",
       "   9 │ unit                 \u001b[90m          \u001b[0m GWh                    \u001b[90m         \u001b[0m GWh    ⋯\n",
       "  10 │ scenario_value        1876.6    0.0                     98.5536  2.3771\n",
       "  11 │ category             \u001b[90m          \u001b[0m nonres                 \u001b[90m         \u001b[0m res\n",
       "  12 │ demand               \u001b[90m          \u001b[0m DHW                    \u001b[90m         \u001b[0m heatin\n",
       "  13 │ unit_ratio           \u001b[90m          \u001b[0m MW/GWh                 \u001b[90m         \u001b[0m MW/GWh ⋯\n",
       "  14 │ peak_to_demand_ratio  0.592118  0.2004                  0.4672   4.8857\n",
       "  15 │ capacity_MW           1175.76   0.0                     39.0837  1.4914\n",
       "\u001b[36m                                                               3 columns omitted\u001b[0m"
      ]
     },
     "metadata": {},
     "output_type": "display_data"
    }
   ],
   "source": [
    "## Calculate estimated peak capacities.\n",
    "\n",
    "hm_capacity_data = leftjoin( # Combine estimated peak demand ratio data with yearly demands.\n",
    "    hm_data,\n",
    "    peak_data;\n",
    "    on=[:country, :demand],\n",
    "    makeunique=true,\n",
    ")\n",
    "rename!(hm_capacity_data, :unit_1 => :unit_ratio)\n",
    "hm_capacity_data.capacity_MW = ( # Calculate the estimated capacity in MW\n",
    "    hm_capacity_data.scenario_value\n",
    "    .* hm_capacity_data.peak_to_demand_ratio\n",
    ")\n",
    "describe(hm_capacity_data)"
   ]
  },
  {
   "cell_type": "markdown",
   "id": "d9565971",
   "metadata": {},
   "source": [
    "### Technology mapping\n",
    "\n",
    "Map the estimated peak capacities to the desired technologies."
   ]
  },
  {
   "cell_type": "code",
   "execution_count": 31,
   "id": "133b1394",
   "metadata": {},
   "outputs": [
    {
     "data": {
      "text/plain": [
       "1-element Vector{String31}:\n",
       " \"district heating\""
      ]
     },
     "metadata": {},
     "output_type": "display_data"
    }
   ],
   "source": [
    "## Figure out heating system mappings from Hotmaps to the desired techs.\n",
    "\n",
    "heat_techs = unique(hm_data.Technology)\n",
    "gas_boiler = filter(x -> contains(lowercase(x), \"gas boiler\"), heat_techs)\n",
    "bio_boiler = filter(x -> contains(lowercase(x), \"biomass\"), heat_techs)\n",
    "oil_boiler = filter(x -> contains(lowercase(x), \"oil boiler\"), heat_techs)\n",
    "air_heatpump = filter(x -> contains(lowercase(x), \"heat pump\"), heat_techs) # Data doesn't distinguish between different heat pumps.\n",
    "ground_heatpump = filter(x -> contains(lowercase(x), \"heat pump\"), heat_techs) # Data doesn't distinguish between different heat pumps.\n",
    "solar_heating = filter(x -> contains(lowercase(x), \"solar\"), heat_techs)\n",
    "electric_heating = filter(x -> contains(lowercase(x), \"electric\"), heat_techs)\n",
    "district_heating = filter(x -> contains(lowercase(x), \"district heating\"), heat_techs)"
   ]
  },
  {
   "cell_type": "code",
   "execution_count": 32,
   "id": "c30f095b",
   "metadata": {},
   "outputs": [
    {
     "data": {
      "text/plain": [
       "Dict{String, Tuple{Vector{String31}, Float64}} with 8 entries:\n",
       "  \"air-heatpump\"     => ([\"heat pumps\"], 0.7)\n",
       "  \"bio-boiler\"       => ([\"biomass boiler or stove\"], 1.0)\n",
       "  \"ground-heatpump\"  => ([\"heat pumps\"], 0.3)\n",
       "  \"gas-boiler\"       => ([\"Gas boiler or stove\"], 1.0)\n",
       "  \"oil-boiler\"       => ([\"Fuel oil boiler or stove\"], 1.0)\n",
       "  \"solar-heating\"    => ([\"Solar thermal collector\"], 1.0)\n",
       "  \"district-heating\" => ([\"district heating\"], 1.0)\n",
       "  \"electric-heating\" => ([\"electric direct heaters\"], 1.0)"
      ]
     },
     "metadata": {},
     "output_type": "display_data"
    }
   ],
   "source": [
    "# Map hm_data technologies to the desired heating techs.\n",
    "\n",
    "distributed_tech_mapping = Dict( # (Set of technologies, assumed share)\n",
    "    \"gas-boiler\" => (gas_boiler, 1.0),\n",
    "    \"bio-boiler\" => (bio_boiler, 1.0),\n",
    "    \"oil-boiler\" => (oil_boiler, 1.0),\n",
    "    \"air-heatpump\" => (air_heatpump, 0.7), # Assumed 70% market share for A2WHPs\n",
    "    \"ground-heatpump\" => (ground_heatpump, 0.3), # Assumed 30% market share for G2WHPs\n",
    "    \"solar-heating\" => (solar_heating, 1.0),\n",
    "    \"electric-heating\" => (electric_heating, 1.0),\n",
    "    \"district-heating\" => (district_heating, 1.0)\n",
    ")"
   ]
  },
  {
   "cell_type": "code",
   "execution_count": 33,
   "id": "829a76f8",
   "metadata": {},
   "outputs": [
    {
     "data": {
      "text/html": [
       "<div><div style = \"float: left;\"><span>9×7 DataFrame</span></div><div style = \"clear: both;\"></div></div><div class = \"data-frame\" style = \"overflow-x: scroll;\"><table class = \"data-frame\" style = \"margin-bottom: 6px;\"><thead><tr class = \"header\"><th class = \"rowNumber\" style = \"font-weight: bold; text-align: right;\">Row</th><th style = \"text-align: left;\">variable</th><th style = \"text-align: left;\">mean</th><th style = \"text-align: left;\">min</th><th style = \"text-align: left;\">median</th><th style = \"text-align: left;\">max</th><th style = \"text-align: left;\">nmissing</th><th style = \"text-align: left;\">eltype</th></tr><tr class = \"subheader headerLastRow\"><th class = \"rowNumber\" style = \"font-weight: bold; text-align: right;\"></th><th title = \"Symbol\" style = \"text-align: left;\">Symbol</th><th title = \"Union{Nothing, Float64}\" style = \"text-align: left;\">Union…</th><th title = \"Any\" style = \"text-align: left;\">Any</th><th title = \"Union{Nothing, Float64}\" style = \"text-align: left;\">Union…</th><th title = \"Any\" style = \"text-align: left;\">Any</th><th title = \"Int64\" style = \"text-align: left;\">Int64</th><th title = \"Type\" style = \"text-align: left;\">Type</th></tr></thead><tbody><tr><td class = \"rowNumber\" style = \"font-weight: bold; text-align: right;\">1</td><td style = \"text-align: left;\">technology</td><td style = \"font-style: italic; text-align: left;\"></td><td style = \"text-align: left;\">air-heatpump</td><td style = \"font-style: italic; text-align: left;\"></td><td style = \"text-align: left;\">solar-heating</td><td style = \"text-align: right;\">0</td><td style = \"text-align: left;\">String</td></tr><tr><td class = \"rowNumber\" style = \"font-weight: bold; text-align: right;\">2</td><td style = \"text-align: left;\">demand_category</td><td style = \"font-style: italic; text-align: left;\"></td><td style = \"text-align: left;\">distributed heating</td><td style = \"font-style: italic; text-align: left;\"></td><td style = \"text-align: left;\">district heating</td><td style = \"text-align: right;\">0</td><td style = \"text-align: left;\">String</td></tr><tr><td class = \"rowNumber\" style = \"font-weight: bold; text-align: right;\">3</td><td style = \"text-align: left;\">scenario_year</td><td style = \"text-align: left;\">2030.22</td><td style = \"text-align: left;\">2012</td><td style = \"text-align: left;\">2030.0</td><td style = \"text-align: left;\">2050</td><td style = \"text-align: right;\">0</td><td style = \"text-align: left;\">Int64</td></tr><tr><td class = \"rowNumber\" style = \"font-weight: bold; text-align: right;\">4</td><td style = \"text-align: left;\">unit</td><td style = \"font-style: italic; text-align: left;\"></td><td style = \"text-align: left;\">MW</td><td style = \"font-style: italic; text-align: left;\"></td><td style = \"text-align: left;\">MW</td><td style = \"text-align: right;\">0</td><td style = \"text-align: left;\">String</td></tr><tr><td class = \"rowNumber\" style = \"font-weight: bold; text-align: right;\">5</td><td style = \"text-align: left;\">scenario</td><td style = \"font-style: italic; text-align: left;\"></td><td style = \"text-align: left;\">ambitious</td><td style = \"font-style: italic; text-align: left;\"></td><td style = \"text-align: left;\">current</td><td style = \"text-align: right;\">0</td><td style = \"text-align: left;\">String15</td></tr><tr><td class = \"rowNumber\" style = \"font-weight: bold; text-align: right;\">6</td><td style = \"text-align: left;\">demand</td><td style = \"font-style: italic; text-align: left;\"></td><td style = \"text-align: left;\">DHW</td><td style = \"font-style: italic; text-align: left;\"></td><td style = \"text-align: left;\">heating</td><td style = \"text-align: right;\">0</td><td style = \"text-align: left;\">String</td></tr><tr><td class = \"rowNumber\" style = \"font-weight: bold; text-align: right;\">7</td><td style = \"text-align: left;\">building_category</td><td style = \"font-style: italic; text-align: left;\"></td><td style = \"text-align: left;\">nonres</td><td style = \"font-style: italic; text-align: left;\"></td><td style = \"text-align: left;\">res</td><td style = \"text-align: right;\">0</td><td style = \"text-align: left;\">String</td></tr><tr><td class = \"rowNumber\" style = \"font-weight: bold; text-align: right;\">8</td><td style = \"text-align: left;\">country</td><td style = \"font-style: italic; text-align: left;\"></td><td style = \"text-align: left;\">AT</td><td style = \"font-style: italic; text-align: left;\"></td><td style = \"text-align: left;\">UK</td><td style = \"text-align: right;\">0</td><td style = \"text-align: left;\">String</td></tr><tr><td class = \"rowNumber\" style = \"font-weight: bold; text-align: right;\">9</td><td style = \"text-align: left;\">capacity</td><td style = \"text-align: left;\">1773.7</td><td style = \"text-align: left;\">0.0</td><td style = \"text-align: left;\">80.1006</td><td style = \"text-align: left;\">1.49141e5</td><td style = \"text-align: right;\">0</td><td style = \"text-align: left;\">Union{Missing, Float64}</td></tr></tbody></table></div>"
      ],
      "text/latex": [
       "\\begin{tabular}{r|ccccccc}\n",
       "\t& variable & mean & min & median & max & nmissing & \\\\\n",
       "\t\\hline\n",
       "\t& Symbol & Union… & Any & Union… & Any & Int64 & \\\\\n",
       "\t\\hline\n",
       "\t1 & technology &  & air-heatpump &  & solar-heating & 0 & $\\dots$ \\\\\n",
       "\t2 & demand\\_category &  & distributed heating &  & district heating & 0 & $\\dots$ \\\\\n",
       "\t3 & scenario\\_year & 2030.22 & 2012 & 2030.0 & 2050 & 0 & $\\dots$ \\\\\n",
       "\t4 & unit &  & MW &  & MW & 0 & $\\dots$ \\\\\n",
       "\t5 & scenario &  & ambitious &  & current & 0 & $\\dots$ \\\\\n",
       "\t6 & demand &  & DHW &  & heating & 0 & $\\dots$ \\\\\n",
       "\t7 & building\\_category &  & nonres &  & res & 0 & $\\dots$ \\\\\n",
       "\t8 & country &  & AT &  & UK & 0 & $\\dots$ \\\\\n",
       "\t9 & capacity & 1773.7 & 0.0 & 80.1006 & 1.49141e5 & 0 & $\\dots$ \\\\\n",
       "\\end{tabular}\n"
      ],
      "text/plain": [
       "\u001b[1m9×7 DataFrame\u001b[0m\n",
       "\u001b[1m Row \u001b[0m│\u001b[1m variable          \u001b[0m\u001b[1m mean    \u001b[0m\u001b[1m min                 \u001b[0m\u001b[1m median  \u001b[0m\u001b[1m max          \u001b[0m ⋯\n",
       "     │\u001b[90m Symbol            \u001b[0m\u001b[90m Union…  \u001b[0m\u001b[90m Any                 \u001b[0m\u001b[90m Union…  \u001b[0m\u001b[90m Any          \u001b[0m ⋯\n",
       "─────┼──────────────────────────────────────────────────────────────────────────\n",
       "   1 │ technology        \u001b[90m         \u001b[0m air-heatpump        \u001b[90m         \u001b[0m solar-heating ⋯\n",
       "   2 │ demand_category   \u001b[90m         \u001b[0m distributed heating \u001b[90m         \u001b[0m district heat\n",
       "   3 │ scenario_year      2030.22  2012                 2030.0   2050\n",
       "   4 │ unit              \u001b[90m         \u001b[0m MW                  \u001b[90m         \u001b[0m MW\n",
       "   5 │ scenario          \u001b[90m         \u001b[0m ambitious           \u001b[90m         \u001b[0m current       ⋯\n",
       "   6 │ demand            \u001b[90m         \u001b[0m DHW                 \u001b[90m         \u001b[0m heating\n",
       "   7 │ building_category \u001b[90m         \u001b[0m nonres              \u001b[90m         \u001b[0m res\n",
       "   8 │ country           \u001b[90m         \u001b[0m AT                  \u001b[90m         \u001b[0m UK\n",
       "   9 │ capacity           1773.7   0.0                  80.1006  1.49141e5     ⋯\n",
       "\u001b[36m                                                               3 columns omitted\u001b[0m"
      ]
     },
     "metadata": {},
     "output_type": "display_data"
    }
   ],
   "source": [
    "# Sum the capacities together\n",
    "\n",
    "rename_cols = Dict(\n",
    "    :Scenario => :scenario,\n",
    "    :scenario_year => :scenario_year,\n",
    "    :country => :country,\n",
    "    :category => :building_category,\n",
    "    :output_technology => :technology,\n",
    "    :demand => :demand,\n",
    "    :weighted_capacity_MW => :capacity,\n",
    "    :capacity_unit => :unit,\n",
    "    :demand_category => :demand_category,\n",
    ")\n",
    "heating_capacity_data = DataFrame()\n",
    "for (name, (techs, weight)) in distributed_tech_mapping\n",
    "    # Filter relevant technologies.\n",
    "    df = filter(\n",
    "        r -> r.Technology in techs && r.Fuel != \"ambient heat\", # Heat pumps have two fuel rows, omitting \"ambient heat\" since it's likely not what Alvaro wants.\n",
    "        hm_capacity_data\n",
    "    )\n",
    "    if isempty(df) # Skip the rest of the loop if df is empty\n",
    "        continue\n",
    "    end\n",
    "    # Calculate the weighted capacities\n",
    "    df.output_technology .= name\n",
    "    df.weighted_capacity_MW .= df.capacity_MW .* weight\n",
    "    df.capacity_unit .= \"MW\"\n",
    "    df.demand_category .= (name == \"district-heating\" ? \"district heating\" : \"distributed heating\")\n",
    "    # Final formatting\n",
    "    df = df[!, collect(keys(rename_cols))] # Drop unused columns\n",
    "    rename!(df, rename_cols)\n",
    "    country_cols = Symbol.(unique(df.country))\n",
    "    df = stack( # Avoid nonresidential private vs nonresidential public duplicate row hassle by unstack-stack summing.\n",
    "        unstack(\n",
    "            df,\n",
    "            :country,\n",
    "            :capacity;\n",
    "            combine=sum\n",
    "        ),\n",
    "        country_cols;\n",
    "        variable_name=:country,\n",
    "        value_name=:capacity\n",
    "    )\n",
    "    append!(heating_capacity_data, df)\n",
    "end\n",
    "describe(heating_capacity_data)"
   ]
  },
  {
   "cell_type": "code",
   "execution_count": null,
   "id": "5669bbcb",
   "metadata": {},
   "outputs": [],
   "source": []
  },
  {
   "cell_type": "markdown",
   "id": "3a7f9aa3",
   "metadata": {},
   "source": [
    "## Export capacity data\n",
    "\n",
    "This is currently WIP"
   ]
  },
  {
   "cell_type": "code",
   "execution_count": null,
   "id": "5f935a48",
   "metadata": {},
   "outputs": [],
   "source": [
    "## Export assumed existing capacity data\n",
    "\n",
    "# Config\n",
    "dgts = 2 # Number of digits when rounding exports.\n",
    "export_cols = [\n",
    "    :scenario,\n",
    "    :scenario_year,\n",
    "    :country,\n",
    "    :building_category,\n",
    "    :demand_category,\n",
    "    :demand,\n",
    "    :technology,\n",
    "    :unit,\n",
    "    :capacity\n",
    "]\n",
    "\n",
    "# Export table\n",
    "capacity_export = heating_capacity_data[:, export_cols]\n",
    "capacity_export.capacity = round.(capacity_export.capacity; digits=dgts)\n",
    "capacity_export = sort!(unstack(\n",
    "    capacity_export,\n",
    "    :country,\n",
    "    :capacity,\n",
    "    combine=sum # Avoid nonresidential private vs nonresidential public duplicate row hassle.\n",
    "))\n",
    "CSV.write(\"output/scenario_estimated_existing_capacities_MW.csv\", capacity_export)"
   ]
  },
  {
   "cell_type": "markdown",
   "id": "c1340177",
   "metadata": {},
   "source": []
  }
 ],
 "metadata": {
  "kernelspec": {
   "display_name": "Julia 1.11.5",
   "language": "julia",
   "name": "julia-1.11"
  },
  "language_info": {
   "file_extension": ".jl",
   "mimetype": "application/julia",
   "name": "julia",
   "version": "1.11.5"
  }
 },
 "nbformat": 4,
 "nbformat_minor": 5
}
