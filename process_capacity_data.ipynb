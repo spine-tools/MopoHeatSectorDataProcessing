{
 "cells": [
  {
   "cell_type": "markdown",
   "id": "60d7e88f",
   "metadata": {},
   "source": [
    "# Processing _ABM_, _Hotmaps_, and _JRC_ data to estimate the existing heat-only generation capacities\n",
    "\n",
    "The goal of this notebook is to calculate estimates for the necessary heat-only boiler capacities,\n",
    "both in distributed heating as well as in district heating systems.\n",
    "The processing relies on three primary data sources:\n",
    "\n",
    "1. The ABM heating demand timeseries informs us about the estimated peak demand relative to the yearly demand, used for sizing the capacity.\n",
    "2. The Hotmaps project results for the yearly heating demands per fuel, mapped into different heating technologies for the distributed heating.\n",
    "3. The JRC-IDEES yearly district-heat-only production to estimate the district heating system capacity distribution."
   ]
  },
  {
   "cell_type": "markdown",
   "id": "2d260f80",
   "metadata": {},
   "source": [
    "## Julia environment setup"
   ]
  },
  {
   "cell_type": "code",
   "execution_count": null,
   "id": "b85ca5c9",
   "metadata": {},
   "outputs": [],
   "source": [
    "## Julia environment setup\n",
    "\n",
    "using Pkg\n",
    "Pkg.activate(@__DIR__)\n",
    "Pkg.instantiate()\n",
    "\n",
    "using CSV\n",
    "using DataFrames\n",
    "using Dates\n",
    "using Statistics\n",
    "using Serialization\n",
    "using XLSX"
   ]
  },
  {
   "cell_type": "markdown",
   "id": "1ee3533c",
   "metadata": {},
   "source": [
    "## Read peak-to-yearly demand ratios calculated in `demand_scaling.ipynb`"
   ]
  },
  {
   "cell_type": "code",
   "execution_count": null,
   "id": "c8d835d3",
   "metadata": {},
   "outputs": [],
   "source": [
    "## Read peak-to-yearly demand ratios\n",
    "\n",
    "peak_path = \"output/peak_to_yearly_demand_ratios_MW_GWh.csv\"\n",
    "peak_data = DataFrame(CSV.File(peak_path))\n",
    "rows, cols = size(peak_data)\n",
    "peak_data = stack(\n",
    "    peak_data,\n",
    "    3:cols;\n",
    "    variable_name=:country,\n",
    "    value_name=:peak_to_demand_ratio\n",
    ")\n",
    "describe(peak_data)"
   ]
  },
  {
   "cell_type": "markdown",
   "id": "2f21c1b0",
   "metadata": {},
   "source": [
    "## Read extended Hotmaps data from `demand_scaling.ipynb`"
   ]
  },
  {
   "cell_type": "code",
   "execution_count": null,
   "id": "171c198d",
   "metadata": {},
   "outputs": [],
   "source": [
    "## Read extended Hotmaps data\n",
    "\n",
    "hm_data = deserialize(\"hm_data.ser\")\n",
    "describe(hm_data)"
   ]
  },
  {
   "cell_type": "markdown",
   "id": "f1c1805a",
   "metadata": {},
   "source": [
    "### Examine heat pump COPs\n",
    "\n",
    "The Hotmaps data has separate values for `Electricity` and `Ambient Heat` as the `Fuel` for heat pumps. Let's see how these assumptions vary between countries and end-uses."
   ]
  },
  {
   "cell_type": "code",
   "execution_count": null,
   "id": "4290d4ab",
   "metadata": {},
   "outputs": [],
   "source": [
    "## Examine the heat pump COPs based on their electricity and ambient heat consumption\n",
    "\n",
    "df = hm_data[hm_data.Technology .== \"heat pumps\", :]\n",
    "df = unstack(df, :Fuel, :scenario_value)\n",
    "df = df[df.Electricity .> 0, :]\n",
    "df.COP .= (df.Electricity + df[!, Symbol(\"ambient heat\")]) ./ df.Electricity\n",
    "#sort!(df, :COP; rev=true)\n",
    "describe(df)"
   ]
  },
  {
   "cell_type": "markdown",
   "id": "e3acc9f6",
   "metadata": {},
   "source": [
    "Well that's a bit alarming: The mean COP in the Hotmaps data is above six, which seems pretty unrealistic. Furthermore, the maximum COP is infeasibly high, and weirdly seems to occur mostly for DHW.\n",
    "\n",
    "Therefore, there's a risk that the modelled heat pump capacity is not enough to cover the demand in certain countries if I use the `Electricity` fuel as the basis for the assumed existing capacity."
   ]
  },
  {
   "cell_type": "code",
   "execution_count": null,
   "id": "abebbe5a",
   "metadata": {},
   "outputs": [],
   "source": [
    "# Let's check space heating and DHW separately:\n",
    "\n",
    "df_cop_demand = unstack(df, :demand, :COP)\n",
    "describe(df_cop_demand)"
   ]
  },
  {
   "cell_type": "markdown",
   "id": "e8b2507c",
   "metadata": {},
   "source": [
    "Surprisingly, the space heating COPs are lower than DHW COPs, which shouldn't be the case. Not really sure what's going on here with the Hotmaps data. Ultimately, it might be necessary to estimate the existing heat pump capacity based on the total and the assumed technology parameter COP, but we'll see."
   ]
  },
  {
   "cell_type": "markdown",
   "id": "a57ef345",
   "metadata": {},
   "source": [
    "## Estimate generation capacities based on Hotmaps\n",
    "\n",
    "We'll have to estimate the technology capacities based on the yearly demands and the estimated demand peak ratio."
   ]
  },
  {
   "cell_type": "code",
   "execution_count": null,
   "id": "8b6d047b",
   "metadata": {},
   "outputs": [],
   "source": [
    "## Calculate estimated peak capacities.\n",
    "\n",
    "hm_capacity_data = leftjoin( # Combine estimated peak demand ratio data with yearly demands.\n",
    "    hm_data,\n",
    "    peak_data;\n",
    "    on=[:country, :demand],\n",
    "    makeunique=true,\n",
    ")\n",
    "rename!(hm_capacity_data, :unit_1 => :unit_ratio)\n",
    "hm_capacity_data.capacity_MW = ( # Calculate the estimated capacity in MW\n",
    "    hm_capacity_data.scenario_value\n",
    "    .* hm_capacity_data.peak_to_demand_ratio\n",
    ")\n",
    "describe(hm_capacity_data)"
   ]
  },
  {
   "cell_type": "markdown",
   "id": "d9565971",
   "metadata": {},
   "source": [
    "### Technology mapping\n",
    "\n",
    "Map the estimated peak capacities to the desired technologies."
   ]
  },
  {
   "cell_type": "code",
   "execution_count": null,
   "id": "133b1394",
   "metadata": {},
   "outputs": [],
   "source": [
    "## Figure out heating system mappings from Hotmaps to the desired techs.\n",
    "\n",
    "heat_techs = lowercase.(unique(hm_data.Technology))\n",
    "gas_boiler = filter(x -> contains(x, \"gas boiler\"), heat_techs)\n",
    "bio_boiler = filter(x -> contains(x, \"biomass\"), heat_techs)\n",
    "oil_boiler = filter(x -> contains(x, \"oil boiler\"), heat_techs)\n",
    "air_heatpump = filter(x -> contains(x, \"heat pump\"), heat_techs) # Data doesn't distinguish between different heat pumps.\n",
    "ground_heatpump = filter(x -> contains(x, \"heat pump\"), heat_techs) # Data doesn't distinguish between different heat pumps.\n",
    "solar_heating = filter(x -> contains(x, \"solar\"), heat_techs)\n",
    "electric_heating = filter(x -> contains(x, \"electric\"), heat_techs)\n",
    "district_heating = filter(x -> contains(x, \"district heating\"), heat_techs)\n",
    "coal_boiler = filter(x -> contains(x, \"coal\"), heat_techs)\n",
    "air_conditioning = filter(x -> contains(x, \"conditioning\"), heat_techs)"
   ]
  },
  {
   "cell_type": "code",
   "execution_count": null,
   "id": "c30f095b",
   "metadata": {},
   "outputs": [],
   "source": [
    "# Map hm_data technologies to the desired heating techs.\n",
    "\n",
    "distributed_tech_mapping = Dict( # (Set of technologies, assumed share)\n",
    "    \"gas-boiler\" => (gas_boiler, 1.0),\n",
    "    \"bio-boiler\" => (bio_boiler, 1.0),\n",
    "    \"oil-boiler\" => (oil_boiler, 1.0),\n",
    "    \"coal-boiler\" => (coal_boiler, 1.0),\n",
    "    \"air-heatpump\" => (air_heatpump, 0.7), # Assumed 70% market share for A2WHPs\n",
    "    \"ground-heatpump\" => (ground_heatpump, 0.3), # Assumed 30% market share for G2WHPs\n",
    "    \"solar-heating\" => (solar_heating, 1.0),\n",
    "    \"electric-heating\" => (electric_heating, 1.0),\n",
    "    \"district-heating\" => (district_heating, 1.0),\n",
    "    \"air-heatpump-cool\" => (air_conditioning, 1.0),\n",
    ")"
   ]
  },
  {
   "cell_type": "code",
   "execution_count": null,
   "id": "829a76f8",
   "metadata": {},
   "outputs": [],
   "source": [
    "# Sum the capacities together\n",
    "\n",
    "rename_cols = Dict(\n",
    "    :Scenario => :scenario,\n",
    "    :scenario_year => :scenario_year,\n",
    "    :country => :country,\n",
    "    :category => :building_category,\n",
    "    :output_technology => :technology,\n",
    "    :demand => :demand,\n",
    "    :weighted_capacity_MW => :capacity,\n",
    "    :capacity_unit => :unit,\n",
    "    :demand_category => :demand_category,\n",
    ")\n",
    "heating_capacity_data = DataFrame()\n",
    "# Loop over the technology mappings.\n",
    "for (name, (techs, weight)) in distributed_tech_mapping\n",
    "    # Filter relevant technologies.\n",
    "    df = filter(\n",
    "        r -> lowercase(r.Technology) in techs && lowercase(r.Fuel) != \"ambient heat\", # Heat pumps have two fuel rows, omitting \"ambient heat\" since it's likely not what Alvaro wants.\n",
    "        hm_capacity_data\n",
    "    )\n",
    "    if isempty(df) # Skip the rest of the loop if df is empty\n",
    "        continue\n",
    "    end\n",
    "    # Calculate the weighted capacities\n",
    "    df.output_technology .= name\n",
    "    df.weighted_capacity_MW .= df.capacity_MW .* weight\n",
    "    df.capacity_unit .= \"MW\"\n",
    "    df.demand_category .= (name == \"district-heating\" ? \"district heating\" : \"distributed heating\")\n",
    "    # Final formatting\n",
    "    df = df[!, collect(keys(rename_cols))] # Drop unused columns\n",
    "    rename!(df, rename_cols)\n",
    "    country_cols = Symbol.(unique(df.country))\n",
    "    df = stack( # Avoid nonresidential private vs nonresidential public duplicate row hassle by unstack-stack summing.\n",
    "        unstack(\n",
    "            df,\n",
    "            :country,\n",
    "            :capacity;\n",
    "            combine=sum\n",
    "        ),\n",
    "        country_cols;\n",
    "        variable_name=:country,\n",
    "        value_name=:capacity\n",
    "    )\n",
    "    append!(heating_capacity_data, df)\n",
    "end\n",
    "describe(heating_capacity_data)"
   ]
  },
  {
   "cell_type": "markdown",
   "id": "d7066552",
   "metadata": {},
   "source": [
    "## Read and process JRC-IDEES data\n",
    "\n",
    "This data is used to estimate the heat-only boiler capacity distribution in district heating systems."
   ]
  },
  {
   "cell_type": "code",
   "execution_count": null,
   "id": "5669bbcb",
   "metadata": {},
   "outputs": [],
   "source": [
    "## Read JRC district heating heat-only data for EU27\n",
    "\n",
    "eu_selectyear = Symbol(2021) # Select latest year from the JRC 2021\n",
    "\n",
    "# Read excels from the directory and compile them into a single dataframe\n",
    "eu27 = readdir(\"input-data\\\\JRC-IDEES-2021\")\n",
    "filter!(s -> !contains(s, '.') && !contains(s, \"EU27\"), eu27)\n",
    "jrc_data = DataFrame()\n",
    "for country in eu27\n",
    "    df = DataFrame(XLSX.readtable(\n",
    "        \"input-data\\\\JRC-IDEES-2021\\\\$(country)\\\\JRC-IDEES-2021_PowerGen_$(country).xlsx\",\n",
    "        \"DistHeat\";\n",
    "        first_row = 3, # Total gross distributed heat production (GWh) - Conventional thermal\n",
    "        header = false,\n",
    "        column_labels = vcat([\"fuel\"], string.(collect(2000:2021)))\n",
    "    ))\n",
    "    df.country .= country\n",
    "    append!(jrc_data, df)\n",
    "end\n",
    "\n",
    "# Omit totals rows\n",
    "fuels_to_omit = lowercase.([\n",
    "    \"Conventional thermal\",\n",
    "    \"Residual fuel oil and other petroleum products\",\n",
    "    \"Natural gas and biogas\",\n",
    "    \"Solid biomass and renewable waste\",\n",
    "    \"Non-renewable wastes\"\n",
    "])\n",
    "inds = [!in(fuel, fuels_to_omit) for fuel in lowercase.(jrc_data.fuel)]\n",
    "jrc_data = jrc_data[inds, [:country, :fuel, eu_selectyear]] # We're only interested in the latest data.\n",
    "jrc_data[!, eu_selectyear] = float.(jrc_data[!, eu_selectyear])\n",
    "rename!(jrc_data, eu_selectyear => :total_gross_distributed_heat_production_GWh)\n",
    "\n",
    "\n",
    "## Read JRC district heating heat-only data for UK\n",
    "\n",
    "uk_selectyear = Symbol(2015) # Select latest year from the JRC 2015\n",
    "\n",
    "# Read excels from the directory and compile them into a single dataframe\n",
    "df = DataFrame(XLSX.readtable(\n",
    "    \"input-data\\\\JRC-IDEES-2015_All_xlsx_UK\\\\JRC-IDEES-2015_PowerGen_UK.xlsx\",\n",
    "    \"DistHeat\";\n",
    "    first_row = 3, # Total gross distributed heat production (GWh) - Conventional thermal\n",
    "    header = false,\n",
    "    column_labels = vcat([\"fuel\"], string.(collect(2000:2015)))\n",
    "))\n",
    "df.country .= \"UK\"\n",
    "\n",
    "# Omit totals rows\n",
    "fuels_to_omit = lowercase.([\n",
    "    \"Conventional Thermal\",\n",
    "    \"Residual Fuel Oil and Other Petroleum Products\",\n",
    "    \"Natural gas and Biogas\",\n",
    "    \"Wood & Waste\",\n",
    "    \"Non-renewable wastes\",\n",
    "])\n",
    "inds = [!in(fuel, fuels_to_omit) for fuel in lowercase.(df.fuel)]\n",
    "uk = df[inds, [:country, :fuel, uk_selectyear]] # We're only interested in the latest data.\n",
    "uk[!, uk_selectyear] = float.(uk[!, uk_selectyear])\n",
    "rename!(uk, uk_selectyear => :total_gross_distributed_heat_production_GWh)\n",
    "append!(jrc_data, uk)\n",
    "\n",
    "\n",
    "## Add missing data for Norway and Switzerland based on Sweden and Austria respectively.\n",
    "\n",
    "extrapolation_mappings = Dict( # Map Norway and Switzerland to existing data with population-based coefficients\n",
    "    \"NO\" => (\"SE\", 0.52),\n",
    "    \"CH\" => (\"AT\", 0.97)\n",
    ")\n",
    "for (c1, (c2, coeff)) in extrapolation_mappings\n",
    "    df = filter(r -> r.country == c2, jrc_data)\n",
    "    df.country .= c1\n",
    "    df.total_gross_distributed_heat_production_GWh .*= coeff\n",
    "    append!(jrc_data, df)\n",
    "end\n",
    "describe(jrc_data)"
   ]
  },
  {
   "cell_type": "code",
   "execution_count": null,
   "id": "26bcfe2e",
   "metadata": {},
   "outputs": [],
   "source": [
    "## Check countries with no heat-only boilers according to JRC-IDEES\n",
    "\n",
    "df = unstack(jrc_data, :country, :total_gross_distributed_heat_production_GWh)\n",
    "countries = Symbol.(names(df)[2:end])\n",
    "jrc_no_dh = [\n",
    "    country\n",
    "    for country in countries\n",
    "    if sum(skipmissing(df[!,country])) ≈ 0\n",
    "]"
   ]
  },
  {
   "cell_type": "code",
   "execution_count": null,
   "id": "96581540",
   "metadata": {},
   "outputs": [],
   "source": [
    "## Check countries with no district heating according to Hotmaps\n",
    "\n",
    "inds = (heating_capacity_data.demand_category .== \"district heating\") .* (heating_capacity_data.capacity .<= 0)\n",
    "hm_no_dh = Symbol.(unique(heating_capacity_data[inds, :].country))"
   ]
  },
  {
   "cell_type": "code",
   "execution_count": null,
   "id": "05b9a951",
   "metadata": {},
   "outputs": [],
   "source": [
    "## Countries with no capacity but demand\n",
    "\n",
    "setdiff(jrc_no_dh, hm_no_dh)"
   ]
  },
  {
   "cell_type": "markdown",
   "id": "9de74df2",
   "metadata": {},
   "source": [
    "So apparently there are a few countries that have district heating demand according to Hotmaps, but no heat-only generation capacity.\n",
    "I suppose this is technically possible if all heat is generated using CHP, but unlikely?\n",
    "\n",
    "I'll just leave these countries without existing capacity then, since the data is even less reliable than the rest. Fortunately, these countries likely don't have that much district heating demand anyhow."
   ]
  },
  {
   "cell_type": "markdown",
   "id": "c4a79e8b",
   "metadata": {},
   "source": [
    "## Estimate district heating heat-only capacity shares"
   ]
  },
  {
   "cell_type": "code",
   "execution_count": null,
   "id": "348a8408",
   "metadata": {},
   "outputs": [],
   "source": [
    "## Map JRC fuels to the desired heating technologies\n",
    "\n",
    "dh_techs = unique(lowercase.(jrc_data.fuel))\n",
    "bio_boiler_dh = filter(x -> contains(x, \"wood\") || contains(x, \"bio\"), dh_techs)\n",
    "gas_boiler_dh = filter(x -> contains(x, \"gas\") && !contains(x, \"bio\"), dh_techs)\n",
    "heatpump_dh = filter(x -> contains(x, \"pump\"), dh_techs)\n",
    "elec_boiler_dh = filter(x -> contains(x, \"elec\"), dh_techs)\n",
    "solar_dh = filter(x -> contains(x, \"solar\"), dh_techs)\n",
    "geothermal_dh = filter(x -> contains(x, \"geo\"), dh_techs)\n",
    "waste_dh = filter(x -> !contains(x, \"wood\") && contains(x, \"waste\") || contains(x, \"msw\"), dh_techs)\n",
    "oil_boiler_dh = filter(x -> contains(x, \" oil\") && !contains(x, \"shale\"), dh_techs)\n",
    "coal_boiler_dh = filter(x -> contains(x, \"coal\") || contains(x, \"lignite\"), dh_techs)\n",
    "\n",
    "# Mapping JRC fuels to desired technologies\n",
    "district_tech_mapping = Dict(\n",
    "    \"bio-boiler-DH\" => bio_boiler_dh,\n",
    "    \"gas-boiler-DH\" => gas_boiler_dh,\n",
    "    \"oil-boiler-DH\" => oil_boiler_dh,\n",
    "    \"coal-boiler-DH\" => coal_boiler_dh,\n",
    "    \"heatpump-DH\" => heatpump_dh,\n",
    "    \"elec-boiler-DH\" => elec_boiler_dh,\n",
    "    \"solar-DH\" => solar_dh,\n",
    "    \"geothermal-DH\" => geothermal_dh,\n",
    "    \"waste-DH\" => waste_dh\n",
    ")"
   ]
  },
  {
   "cell_type": "code",
   "execution_count": null,
   "id": "6a34cb09",
   "metadata": {},
   "outputs": [],
   "source": [
    "## Calculate totals per technology\n",
    "\n",
    "cols = [:country, :technology, :total_gross_distributed_heat_production_GWh]\n",
    "mapped_dh = DataFrame()\n",
    "for (name, techs) in district_tech_mapping\n",
    "    # Filter relevant technologies\n",
    "    df = filter(\n",
    "        r -> lowercase(r.fuel) in techs,\n",
    "        jrc_data\n",
    "    )\n",
    "    # Skip the rest of the loop if df is empty\n",
    "    isempty(df) && continue\n",
    "    # Calculate totals per country\n",
    "    df.technology .= name\n",
    "    df = df[!, cols]\n",
    "    df = unstack(\n",
    "        df,\n",
    "        :country,\n",
    "        :total_gross_distributed_heat_production_GWh;\n",
    "        combine=sum\n",
    "    )\n",
    "    append!(mapped_dh, df)\n",
    "end\n",
    "\n",
    "\n",
    "## Calculate and convert into shares per country.\n",
    "\n",
    "countries = unique(jrc_data.country)\n",
    "for country in countries\n",
    "    total = sum(mapped_dh[!, country]) # Calculate total per country\n",
    "    total ≈ 0 && continue # Skip scaling if total is zero\n",
    "    mapped_dh[!, country] ./= total # Scale into shares per country.\n",
    "    sum(mapped_dh[!, country]) ≈ 1 || @error \"Scaling not working!\"\n",
    "end\n",
    "# Stack back to format matching heating_capacity_data\n",
    "mapped_dh = stack(\n",
    "    mapped_dh;\n",
    "    variable_name=:country,\n",
    "    value_name=:share\n",
    ")\n",
    "describe(mapped_dh)"
   ]
  },
  {
   "cell_type": "code",
   "execution_count": null,
   "id": "75796629",
   "metadata": {},
   "outputs": [],
   "source": [
    "## Let's check technology share ranges just in case\n",
    "\n",
    "describe(unstack(mapped_dh, :technology, :share))"
   ]
  },
  {
   "cell_type": "markdown",
   "id": "2b86110e",
   "metadata": {},
   "source": [
    "Seems reasonable?\n",
    "Gas is the most significant DH heat-only technology both in terms of mean as well as maximum capacity shares.\n",
    "Meanwhile, solar DH is understandably the smallest share.\n",
    "Interestingly, oil and elec boilers have relatively low maximum shares as well,\n",
    "while geothermal climbs to a maximum share of almost 40% for Belgium?!?"
   ]
  },
  {
   "cell_type": "markdown",
   "id": "2ebb3270",
   "metadata": {},
   "source": [
    "## Combining data and final formatting"
   ]
  },
  {
   "cell_type": "code",
   "execution_count": null,
   "id": "6e3e2aeb",
   "metadata": {},
   "outputs": [],
   "source": [
    "## Form the final capacity data by appending DH technology distribution\n",
    "\n",
    "# Separate distributed heating capacities from district heating ones.\n",
    "distributed_inds = heating_capacity_data.demand_category .== \"distributed heating\"\n",
    "district_inds = heating_capacity_data.demand_category .== \"district heating\"\n",
    "final_capacity_data = heating_capacity_data[distributed_inds, :]\n",
    "district_heating_data = heating_capacity_data[district_inds, :]\n",
    "rename!(district_heating_data, :technology => :old_tech)\n",
    "\n",
    "# Combine with DH technology shares\n",
    "district_heating_data = outerjoin(district_heating_data, mapped_dh; on=:country)\n",
    "# Update capacity using share\n",
    "district_heating_data.capacity .*= district_heating_data.share\n",
    "# Append district heating capacities to distributed ones\n",
    "cols = Symbol.(names(final_capacity_data))\n",
    "append!(final_capacity_data, district_heating_data[!, cols])\n",
    "describe(final_capacity_data)"
   ]
  },
  {
   "cell_type": "markdown",
   "id": "9dcf766d",
   "metadata": {},
   "source": [
    "## Project existing capacities with decommissioning.\n",
    "\n",
    "For the European case study, we'll want to estimate the existing fleet at a select year and project it into the future with assumed decommissioning."
   ]
  },
  {
   "cell_type": "code",
   "execution_count": null,
   "id": "cc5dc79a",
   "metadata": {},
   "outputs": [],
   "source": [
    "## Project existing capacities with decommissioning.\n",
    "\n",
    "# Config\n",
    "desired_years = [2025, 2030, 2035, 2040, 2045, 2050]\n",
    "\n",
    "# Read heating technology params to get estimated equipment decommissioning rates.\n",
    "lifetimes = DataFrame(CSV.File(\"output/heating_technology_params.csv\"))\n",
    "lifetimes.lifetime_y = 1 ./ lifetimes.lifetime_y\n",
    "lifetimes = rename!(\n",
    "    lifetimes[:, [:technology, :year, :lifetime_y]],\n",
    "    :lifetime_y => :decommission_rate\n",
    ")\n",
    "\n",
    "# Extrapolate select years\n",
    "extrapolation_years = [2025, 2035, 2045]\n",
    "lifetimes = unstack(lifetimes, :year, :decommission_rate)\n",
    "for ey in extrapolation_years\n",
    "    lifetimes[!, Symbol(ey)] = 0.5 .* (lifetimes[!, Symbol(ey-5)] +  lifetimes[!, Symbol(ey+5)])\n",
    "end\n",
    "lifetimes = sort(stack(\n",
    "    lifetimes, names(lifetimes)[2:end]; variable_name=:scenario_year, value_name=:decommission_rate\n",
    "))\n",
    "lifetimes.scenario_year .= parse.(Int, lifetimes.scenario_year)\n",
    "\n",
    "# Combine decommissioning with capacity data and simulate remaining capacities\n",
    "capacity_df = sort( # Inner join to avoid including scenario years with no lifetime params.\n",
    "    innerjoin(final_capacity_data, lifetimes; on=[:technology, :scenario_year])\n",
    ")\n",
    "capacity_df.decommission_factor .= (1 .- capacity_df.decommission_rate).^5\n",
    "capacity_df.flat_decommission .= capacity_df.capacity .* (1 .- capacity_df.decommission_factor)\n",
    "remaining_capacity = capacity_df[capacity_df.scenario_year .== first(desired_years), :]\n",
    "flat_decommission = deepcopy(remaining_capacity.flat_decommission)\n",
    "decommission_factor = deepcopy(remaining_capacity.decommission_factor)\n",
    "for year in desired_years[1:end-1]\n",
    "    df = remaining_capacity[remaining_capacity.scenario_year .== year, :]\n",
    "    df.capacity .= max.(df.capacity .- flat_decommission, 0.0) # Flat decommissioning rates\n",
    "    #df.capacity .*= decommission_factor # For relative decommissioning\n",
    "    df.scenario_year .+= 5\n",
    "    append!(remaining_capacity, df) \n",
    "end\n",
    "describe(remaining_capacity)"
   ]
  },
  {
   "cell_type": "markdown",
   "id": "f4e97c84",
   "metadata": {},
   "source": [
    "## Export outputs"
   ]
  },
  {
   "cell_type": "code",
   "execution_count": null,
   "id": "5f935a48",
   "metadata": {},
   "outputs": [],
   "source": [
    "## Export assumed existing capacity data\n",
    "\n",
    "# Config\n",
    "dgts = 2 # Number of digits when rounding exports.\n",
    "export_cols = [\n",
    "    :scenario,\n",
    "    :scenario_year,\n",
    "    :country,\n",
    "    :building_category,\n",
    "    :demand_category,\n",
    "    :demand,\n",
    "    :technology,\n",
    "    :unit,\n",
    "    :capacity\n",
    "]\n",
    "\n",
    "# Export table\n",
    "capacity_export = final_capacity_data[:, export_cols]\n",
    "capacity_export.capacity = round.(capacity_export.capacity; digits=dgts)\n",
    "capacity_export = sort!(unstack(\n",
    "    capacity_export,\n",
    "    :country,\n",
    "    :capacity,\n",
    "    combine=sum # Avoid nonresidential private vs nonresidential public duplicate row hassle.\n",
    "))\n",
    "CSV.write(\"output/scenario_estimated_existing_capacities_MW.csv\", capacity_export)"
   ]
  },
  {
   "cell_type": "code",
   "execution_count": null,
   "id": "024c8f9a",
   "metadata": {},
   "outputs": [],
   "source": [
    "## Export simplified existing capacity data\n",
    "\n",
    "# Config\n",
    "select_scenario = \"current\"\n",
    "dgts = 2 # Number of digits when rounding exports.\n",
    "export_cols = [\n",
    "    :country,\n",
    "    :technology,\n",
    "    :unit,\n",
    "    Symbol(2025),\n",
    "    Symbol(2030),\n",
    "    Symbol(2040),\n",
    "    Symbol(2050)\n",
    "]\n",
    "\n",
    "# Formatting and aggregating\n",
    "inds = (remaining_capacity.scenario .== select_scenario) .* (remaining_capacity.technology .!= \"air-conditioning\") # Omit \"air-conditioning\" since it has no lifetime params\n",
    "simplified_export = remaining_capacity[inds, :]\n",
    "cols = [:country, :technology, :unit, :scenario_year, :capacity]\n",
    "simplified_export = unstack(\n",
    "    simplified_export[:, cols],\n",
    "    :scenario_year,\n",
    "    :capacity;\n",
    "    combine=(x -> round(sum(x); digits=dgts)) # Building categories and demands summed over\n",
    ")\n",
    "\n",
    "# Export table\n",
    "simplified_export = sort(simplified_export[:, export_cols])\n",
    "CSV.write(\"output/simplified_capacities_with_decommissioning_MW.csv\", simplified_export)"
   ]
  },
  {
   "cell_type": "markdown",
   "id": "8c0229e8",
   "metadata": {},
   "source": [
    "## Tests for the output"
   ]
  },
  {
   "cell_type": "code",
   "execution_count": null,
   "id": "3c2ac8d0",
   "metadata": {},
   "outputs": [],
   "source": [
    "## Test that all mapped technologies are represented\n",
    "# (except district-heating since it gets purposefully replaced)\n",
    "\n",
    "final_techs = unique(capacity_export.technology)\n",
    "distributed_techs = collect(keys(distributed_tech_mapping))\n",
    "district_techs = collect(keys(district_tech_mapping))\n",
    "mapped_techs = vcat(distributed_techs, district_techs)\n",
    "only(setdiff(mapped_techs, final_techs))  == \"district-heating\""
   ]
  },
  {
   "cell_type": "code",
   "execution_count": null,
   "id": "6896361e",
   "metadata": {},
   "outputs": [],
   "source": [
    "## Is there any meaningful difference in the data across the scenarios for the historical data?\n",
    "\n",
    "country_cols = names(capacity_export)[8:end]\n",
    "scenario_years = unique(capacity_export.scenario_year)\n",
    "df = unstack(\n",
    "    stack(capacity_export, country_cols; variable_name=:country, value_name=:capacity),\n",
    "    :scenario,\n",
    "    :capacity\n",
    ")\n",
    "df.sse .= (df.ambitious .- df.current).^2\n",
    "diag = []\n",
    "for year in scenario_years\n",
    "    df_year = df[df.scenario_year .== year, :]\n",
    "    share = count(df_year.sse .> 0) / length(df_year.sse)\n",
    "    tot = sum(df_year.sse)\n",
    "    append!(diag, year => (share, tot))\n",
    "end\n",
    "diag\n",
    "\n",
    "# 2012 data practically identical across the scenarios,\n",
    "# but 2015 already almost as different as the rest of the scenario years?"
   ]
  },
  {
   "cell_type": "code",
   "execution_count": null,
   "id": "91d8dd75",
   "metadata": {},
   "outputs": [],
   "source": [
    "## Check that simplified export capacity decreases\n",
    "\n",
    "year_cols = Symbol.([2025, 2030, 2040, 2050])\n",
    "year_durs = [5, 10, 10]\n",
    "data = Matrix(simplified_export[:, year_cols])\n",
    "decom_rates = diff(data; dims=2)\n",
    "for row in eachrow(decom_rates)\n",
    "    row ./= year_durs\n",
    "end\n",
    "rounded_decom_rates = round.(decom_rates, RoundUp; digits=1)\n",
    "inds = [col .< decom_rates[:,1] for col in eachcol(rounded_decom_rates)]\n",
    "count.(inds)\n",
    "\n",
    "# Mostly works, the rounding does throw things off a bit.\n"
   ]
  },
  {
   "cell_type": "code",
   "execution_count": null,
   "id": "af8401ef",
   "metadata": {},
   "outputs": [],
   "source": [
    "## Check that `heat-pump-cool` gets mapped\n",
    "\n",
    "\"air-heatpump-cool\" in simplified_export.technology"
   ]
  }
 ],
 "metadata": {
  "kernelspec": {
   "display_name": "Julia 1.11.5",
   "language": "julia",
   "name": "julia-1.11"
  },
  "language_info": {
   "file_extension": ".jl",
   "mimetype": "application/julia",
   "name": "julia",
   "version": "1.11.5"
  }
 },
 "nbformat": 4,
 "nbformat_minor": 5
}
