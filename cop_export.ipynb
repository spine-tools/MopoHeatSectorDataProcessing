{
 "cells": [
  {
   "cell_type": "markdown",
   "metadata": {},
   "source": [
    "# COP export\n",
    "\n",
    "This script reads and reorganises the raw ArchetypeBuildingModel coefficient of performance timeseries for Mopo WP5."
   ]
  },
  {
   "cell_type": "markdown",
   "metadata": {},
   "source": [
    "## Julia environment setup"
   ]
  },
  {
   "cell_type": "code",
   "execution_count": null,
   "metadata": {},
   "outputs": [],
   "source": [
    "## Julia environment setup\n",
    "\n",
    "using Pkg\n",
    "Pkg.activate(@__DIR__)\n",
    "Pkg.instantiate()\n",
    "\n",
    "using CSV\n",
    "using DataFrames\n",
    "using Dates\n",
    "using Statistics"
   ]
  },
  {
   "cell_type": "markdown",
   "metadata": {},
   "source": [
    "## Read and reorganise the raw ABM COP data."
   ]
  },
  {
   "cell_type": "code",
   "execution_count": null,
   "metadata": {},
   "outputs": [],
   "source": [
    "## Config for the raw data\n",
    "\n",
    "years = [1995, 2008, 2009, 2012, 2015]\n",
    "cop_paths = [\n",
    "    year => \"input-data/abm-raw-data/process_cops_$(year).csv\"\n",
    "    for year in years\n",
    "];"
   ]
  },
  {
   "cell_type": "code",
   "execution_count": null,
   "metadata": {},
   "outputs": [],
   "source": [
    "## Read and reorganise COP data\n",
    "\n",
    "# Read and reorganise the data.\n",
    "cop_cols = [:timestamp, :weather_year, :country, :category, :process, :value]\n",
    "cop_data = DataFrame()\n",
    "for (year, path) in cop_paths\n",
    "    df = stack(DataFrame(CSV.File(path; header=[1,2])))\n",
    "    s = split.(df[!, :variable], '_')\n",
    "    df[!, :country] = String.(getindex.(s, 1))\n",
    "    df[!, :category] = String.(getindex.(s, 2))\n",
    "    df[!, :process] = String.(getindex.(s, 5))\n",
    "    df[!, :distribution] = String.(get.(s, 6, \"air\"))\n",
    "    df[!, :weather_year] .= year\n",
    "    df[!, :process] = df[!, :process] .* '-' .* df[!, :distribution]\n",
    "    rename!(\n",
    "        df,\n",
    "        :building_archetype_building_process => :timestamp,\n",
    "    )\n",
    "    append!(cop_data, df[!, cop_cols])\n",
    "end\n",
    "\n",
    "# Get rid of any potential sub-one COPs\n",
    "cop_data.value = max.(cop_data.value, 1.0)\n",
    "describe(cop_data)"
   ]
  },
  {
   "cell_type": "markdown",
   "metadata": {},
   "source": [
    "## Export desired timeseries."
   ]
  },
  {
   "cell_type": "code",
   "execution_count": null,
   "metadata": {},
   "outputs": [],
   "source": [
    "## Export timeseries\n",
    "\n",
    "# Export config\n",
    "years = [1995, 2008, 2009, 2012, 2015]\n",
    "dgts = 3 # Number of digits when rounding export\n",
    "cat = \"res\" # Only export `res` COPs, there's no meaningful difference anyhow.\n",
    "processes = Set(cop_data.process)\n",
    "export_cols = [:timestamp, :country, :value]\n",
    "\n",
    "# Export csvs\n",
    "for pro in processes\n",
    "    for year in years\n",
    "        df = filter(\n",
    "            r -> r.weather_year == year && r.category == cat && r.process == pro,\n",
    "            cop_data\n",
    "        )\n",
    "        df = df[!, export_cols]\n",
    "        df.value = round.(df.value; digits=dgts)\n",
    "        df = unstack(df, :country, :value)\n",
    "        CSV.write(\"output/cop-timeseries/COP_$(pro)_wy$(year).csv\", df)\n",
    "    end\n",
    "end"
   ]
  },
  {
   "cell_type": "markdown",
   "metadata": {},
   "source": [
    "## Plots to visually inspect the data"
   ]
  },
  {
   "cell_type": "code",
   "execution_count": null,
   "metadata": {},
   "outputs": [],
   "source": [
    "## Plot diagnostics\n",
    "\n",
    "using Plots\n",
    "\n",
    "plot_year = 1995\n",
    "plot_cols = [:timestamp, :process, :value]\n",
    "cat = \"res\"\n",
    "countries = Set(cop_data.country)\n",
    "f = nothing # How many timesteps to plot, `nothing` plots all\n",
    "\n",
    "for c in countries\n",
    "    df = filter(\n",
    "        r -> r.weather_year == plot_year && r.category == cat && r.country == c,\n",
    "        cop_data\n",
    "    )\n",
    "    df = df[!, plot_cols]\n",
    "    df = unstack(df, :process, :value)\n",
    "    isnothing(f) ? nothing : df = first(df, f)\n",
    "    plt = plot(\n",
    "        df[!, 1],\n",
    "        Matrix(df[!, 2:end]);\n",
    "        title = \"$(c)\",\n",
    "        labels = reshape(names(df)[2:end], 1, length(names(df)) - 1)\n",
    "    )\n",
    "    display(plt)\n",
    "end"
   ]
  },
  {
   "cell_type": "code",
   "execution_count": null,
   "metadata": {},
   "outputs": [],
   "source": []
  }
 ],
 "metadata": {
  "kernelspec": {
   "display_name": "Julia 1.11.2",
   "language": "julia",
   "name": "julia-1.11"
  },
  "language_info": {
   "file_extension": ".jl",
   "mimetype": "application/julia",
   "name": "julia",
   "version": "1.11.2"
  }
 },
 "nbformat": 4,
 "nbformat_minor": 2
}
